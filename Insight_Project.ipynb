{
 "cells": [
  {
   "cell_type": "markdown",
   "id": "7223141e",
   "metadata": {},
   "source": [
    "<div style=\"display: flex;\">\n",
    "  <h1 style=\"color: #228B22; font-size: 30px; margin-right: auto; margin-left: 0;\">Projeto Insight</h1>\n",
    "  <div style=\"margin-left: auto;\">\n",
    "    <img src=\"data:image/png;base64,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\" style=\"width: 45px; height: 45px;\">\n",
    "  </div>\n",
    "</div>"
   ]
  },
  {
   "cell_type": "markdown",
   "id": "ebfbe00f",
   "metadata": {},
   "source": [
    "<hr style=\"border: none; height: 3px; background-color: #228B22; margin: 0;\">"
   ]
  },
  {
   "cell_type": "markdown",
   "id": "f94a90a4",
   "metadata": {},
   "source": [
    "<div> <h2 style='color: #228B22'> Importando Bibliotecas </h2> </div>"
   ]
  },
  {
   "cell_type": "code",
   "execution_count": 343,
   "id": "9e326974",
   "metadata": {},
   "outputs": [],
   "source": [
    "import numpy as np \n",
    "import pandas as pd \n",
    "import matplotlib.pyplot as plt \n",
    "import seaborn as sns"
   ]
  },
  {
   "cell_type": "markdown",
   "id": "39d25dc1",
   "metadata": {},
   "source": [
    "<hr style=\"border: none; height: 3px; background-color: #228B22; margin: 0;\">"
   ]
  },
  {
   "cell_type": "markdown",
   "id": "65bea2c1",
   "metadata": {},
   "source": [
    "<div> <h2 style='color: #228B22'> Carregando Dados </h2> </div>"
   ]
  },
  {
   "cell_type": "code",
   "execution_count": 344,
   "id": "2c4acbb6",
   "metadata": {},
   "outputs": [],
   "source": [
    "df = pd.read_csv('dados/kc_house_data.csv')"
   ]
  },
  {
   "cell_type": "markdown",
   "id": "6d429265",
   "metadata": {},
   "source": [
    "#### Dimensões dos dados "
   ]
  },
  {
   "cell_type": "code",
   "execution_count": 345,
   "id": "d4e0c28a",
   "metadata": {},
   "outputs": [
    {
     "name": "stdout",
     "output_type": "stream",
     "text": [
      "Quantidade de Linhas:  21613\n",
      "Quantidade de Colunas:  21\n"
     ]
    }
   ],
   "source": [
    "print('Quantidade de Linhas: ', df.shape[0])\n",
    "print('Quantidade de Colunas: ', df.shape[1])"
   ]
  },
  {
   "cell_type": "markdown",
   "id": "70c2caf7",
   "metadata": {},
   "source": [
    "#### Descrição da colunas "
   ]
  },
  {
   "cell_type": "code",
   "execution_count": 346,
   "id": "6df3ff2e",
   "metadata": {},
   "outputs": [
    {
     "data": {
      "text/html": [
       "<div>\n",
       "<style scoped>\n",
       "    .dataframe tbody tr th:only-of-type {\n",
       "        vertical-align: middle;\n",
       "    }\n",
       "\n",
       "    .dataframe tbody tr th {\n",
       "        vertical-align: top;\n",
       "    }\n",
       "\n",
       "    .dataframe thead th {\n",
       "        text-align: right;\n",
       "    }\n",
       "</style>\n",
       "<table border=\"1\" class=\"dataframe\">\n",
       "  <thead>\n",
       "    <tr style=\"text-align: right;\">\n",
       "      <th></th>\n",
       "      <th>id</th>\n",
       "      <th>price</th>\n",
       "      <th>bedrooms</th>\n",
       "      <th>bathrooms</th>\n",
       "      <th>sqft_living</th>\n",
       "      <th>sqft_lot</th>\n",
       "      <th>floors</th>\n",
       "      <th>waterfront</th>\n",
       "      <th>view</th>\n",
       "      <th>condition</th>\n",
       "      <th>grade</th>\n",
       "      <th>sqft_above</th>\n",
       "      <th>sqft_basement</th>\n",
       "      <th>yr_built</th>\n",
       "      <th>yr_renovated</th>\n",
       "      <th>zipcode</th>\n",
       "      <th>lat</th>\n",
       "      <th>long</th>\n",
       "      <th>sqft_living15</th>\n",
       "      <th>sqft_lot15</th>\n",
       "    </tr>\n",
       "  </thead>\n",
       "  <tbody>\n",
       "    <tr>\n",
       "      <th>count</th>\n",
       "      <td>2.161300e+04</td>\n",
       "      <td>2.161300e+04</td>\n",
       "      <td>21613.000000</td>\n",
       "      <td>21613.000000</td>\n",
       "      <td>21613.000000</td>\n",
       "      <td>2.161300e+04</td>\n",
       "      <td>21613.000000</td>\n",
       "      <td>21613.000000</td>\n",
       "      <td>21613.000000</td>\n",
       "      <td>21613.000000</td>\n",
       "      <td>21613.000000</td>\n",
       "      <td>21613.000000</td>\n",
       "      <td>21613.000000</td>\n",
       "      <td>21613.000000</td>\n",
       "      <td>21613.000000</td>\n",
       "      <td>21613.000000</td>\n",
       "      <td>21613.000000</td>\n",
       "      <td>21613.000000</td>\n",
       "      <td>21613.000000</td>\n",
       "      <td>21613.000000</td>\n",
       "    </tr>\n",
       "    <tr>\n",
       "      <th>mean</th>\n",
       "      <td>4.580302e+09</td>\n",
       "      <td>5.400881e+05</td>\n",
       "      <td>3.370842</td>\n",
       "      <td>2.114757</td>\n",
       "      <td>2079.899736</td>\n",
       "      <td>1.510697e+04</td>\n",
       "      <td>1.494309</td>\n",
       "      <td>0.007542</td>\n",
       "      <td>0.234303</td>\n",
       "      <td>3.409430</td>\n",
       "      <td>7.656873</td>\n",
       "      <td>1788.390691</td>\n",
       "      <td>291.509045</td>\n",
       "      <td>1971.005136</td>\n",
       "      <td>84.402258</td>\n",
       "      <td>98077.939805</td>\n",
       "      <td>47.560053</td>\n",
       "      <td>-122.213896</td>\n",
       "      <td>1986.552492</td>\n",
       "      <td>12768.455652</td>\n",
       "    </tr>\n",
       "    <tr>\n",
       "      <th>std</th>\n",
       "      <td>2.876566e+09</td>\n",
       "      <td>3.671272e+05</td>\n",
       "      <td>0.930062</td>\n",
       "      <td>0.770163</td>\n",
       "      <td>918.440897</td>\n",
       "      <td>4.142051e+04</td>\n",
       "      <td>0.539989</td>\n",
       "      <td>0.086517</td>\n",
       "      <td>0.766318</td>\n",
       "      <td>0.650743</td>\n",
       "      <td>1.175459</td>\n",
       "      <td>828.090978</td>\n",
       "      <td>442.575043</td>\n",
       "      <td>29.373411</td>\n",
       "      <td>401.679240</td>\n",
       "      <td>53.505026</td>\n",
       "      <td>0.138564</td>\n",
       "      <td>0.140828</td>\n",
       "      <td>685.391304</td>\n",
       "      <td>27304.179631</td>\n",
       "    </tr>\n",
       "    <tr>\n",
       "      <th>min</th>\n",
       "      <td>1.000102e+06</td>\n",
       "      <td>7.500000e+04</td>\n",
       "      <td>0.000000</td>\n",
       "      <td>0.000000</td>\n",
       "      <td>290.000000</td>\n",
       "      <td>5.200000e+02</td>\n",
       "      <td>1.000000</td>\n",
       "      <td>0.000000</td>\n",
       "      <td>0.000000</td>\n",
       "      <td>1.000000</td>\n",
       "      <td>1.000000</td>\n",
       "      <td>290.000000</td>\n",
       "      <td>0.000000</td>\n",
       "      <td>1900.000000</td>\n",
       "      <td>0.000000</td>\n",
       "      <td>98001.000000</td>\n",
       "      <td>47.155900</td>\n",
       "      <td>-122.519000</td>\n",
       "      <td>399.000000</td>\n",
       "      <td>651.000000</td>\n",
       "    </tr>\n",
       "    <tr>\n",
       "      <th>25%</th>\n",
       "      <td>2.123049e+09</td>\n",
       "      <td>3.219500e+05</td>\n",
       "      <td>3.000000</td>\n",
       "      <td>1.750000</td>\n",
       "      <td>1427.000000</td>\n",
       "      <td>5.040000e+03</td>\n",
       "      <td>1.000000</td>\n",
       "      <td>0.000000</td>\n",
       "      <td>0.000000</td>\n",
       "      <td>3.000000</td>\n",
       "      <td>7.000000</td>\n",
       "      <td>1190.000000</td>\n",
       "      <td>0.000000</td>\n",
       "      <td>1951.000000</td>\n",
       "      <td>0.000000</td>\n",
       "      <td>98033.000000</td>\n",
       "      <td>47.471000</td>\n",
       "      <td>-122.328000</td>\n",
       "      <td>1490.000000</td>\n",
       "      <td>5100.000000</td>\n",
       "    </tr>\n",
       "    <tr>\n",
       "      <th>50%</th>\n",
       "      <td>3.904930e+09</td>\n",
       "      <td>4.500000e+05</td>\n",
       "      <td>3.000000</td>\n",
       "      <td>2.250000</td>\n",
       "      <td>1910.000000</td>\n",
       "      <td>7.618000e+03</td>\n",
       "      <td>1.500000</td>\n",
       "      <td>0.000000</td>\n",
       "      <td>0.000000</td>\n",
       "      <td>3.000000</td>\n",
       "      <td>7.000000</td>\n",
       "      <td>1560.000000</td>\n",
       "      <td>0.000000</td>\n",
       "      <td>1975.000000</td>\n",
       "      <td>0.000000</td>\n",
       "      <td>98065.000000</td>\n",
       "      <td>47.571800</td>\n",
       "      <td>-122.230000</td>\n",
       "      <td>1840.000000</td>\n",
       "      <td>7620.000000</td>\n",
       "    </tr>\n",
       "    <tr>\n",
       "      <th>75%</th>\n",
       "      <td>7.308900e+09</td>\n",
       "      <td>6.450000e+05</td>\n",
       "      <td>4.000000</td>\n",
       "      <td>2.500000</td>\n",
       "      <td>2550.000000</td>\n",
       "      <td>1.068800e+04</td>\n",
       "      <td>2.000000</td>\n",
       "      <td>0.000000</td>\n",
       "      <td>0.000000</td>\n",
       "      <td>4.000000</td>\n",
       "      <td>8.000000</td>\n",
       "      <td>2210.000000</td>\n",
       "      <td>560.000000</td>\n",
       "      <td>1997.000000</td>\n",
       "      <td>0.000000</td>\n",
       "      <td>98118.000000</td>\n",
       "      <td>47.678000</td>\n",
       "      <td>-122.125000</td>\n",
       "      <td>2360.000000</td>\n",
       "      <td>10083.000000</td>\n",
       "    </tr>\n",
       "    <tr>\n",
       "      <th>max</th>\n",
       "      <td>9.900000e+09</td>\n",
       "      <td>7.700000e+06</td>\n",
       "      <td>33.000000</td>\n",
       "      <td>8.000000</td>\n",
       "      <td>13540.000000</td>\n",
       "      <td>1.651359e+06</td>\n",
       "      <td>3.500000</td>\n",
       "      <td>1.000000</td>\n",
       "      <td>4.000000</td>\n",
       "      <td>5.000000</td>\n",
       "      <td>13.000000</td>\n",
       "      <td>9410.000000</td>\n",
       "      <td>4820.000000</td>\n",
       "      <td>2015.000000</td>\n",
       "      <td>2015.000000</td>\n",
       "      <td>98199.000000</td>\n",
       "      <td>47.777600</td>\n",
       "      <td>-121.315000</td>\n",
       "      <td>6210.000000</td>\n",
       "      <td>871200.000000</td>\n",
       "    </tr>\n",
       "  </tbody>\n",
       "</table>\n",
       "</div>"
      ],
      "text/plain": [
       "                 id         price      bedrooms     bathrooms   sqft_living  \\\n",
       "count  2.161300e+04  2.161300e+04  21613.000000  21613.000000  21613.000000   \n",
       "mean   4.580302e+09  5.400881e+05      3.370842      2.114757   2079.899736   \n",
       "std    2.876566e+09  3.671272e+05      0.930062      0.770163    918.440897   \n",
       "min    1.000102e+06  7.500000e+04      0.000000      0.000000    290.000000   \n",
       "25%    2.123049e+09  3.219500e+05      3.000000      1.750000   1427.000000   \n",
       "50%    3.904930e+09  4.500000e+05      3.000000      2.250000   1910.000000   \n",
       "75%    7.308900e+09  6.450000e+05      4.000000      2.500000   2550.000000   \n",
       "max    9.900000e+09  7.700000e+06     33.000000      8.000000  13540.000000   \n",
       "\n",
       "           sqft_lot        floors    waterfront          view     condition  \\\n",
       "count  2.161300e+04  21613.000000  21613.000000  21613.000000  21613.000000   \n",
       "mean   1.510697e+04      1.494309      0.007542      0.234303      3.409430   \n",
       "std    4.142051e+04      0.539989      0.086517      0.766318      0.650743   \n",
       "min    5.200000e+02      1.000000      0.000000      0.000000      1.000000   \n",
       "25%    5.040000e+03      1.000000      0.000000      0.000000      3.000000   \n",
       "50%    7.618000e+03      1.500000      0.000000      0.000000      3.000000   \n",
       "75%    1.068800e+04      2.000000      0.000000      0.000000      4.000000   \n",
       "max    1.651359e+06      3.500000      1.000000      4.000000      5.000000   \n",
       "\n",
       "              grade    sqft_above  sqft_basement      yr_built  yr_renovated  \\\n",
       "count  21613.000000  21613.000000   21613.000000  21613.000000  21613.000000   \n",
       "mean       7.656873   1788.390691     291.509045   1971.005136     84.402258   \n",
       "std        1.175459    828.090978     442.575043     29.373411    401.679240   \n",
       "min        1.000000    290.000000       0.000000   1900.000000      0.000000   \n",
       "25%        7.000000   1190.000000       0.000000   1951.000000      0.000000   \n",
       "50%        7.000000   1560.000000       0.000000   1975.000000      0.000000   \n",
       "75%        8.000000   2210.000000     560.000000   1997.000000      0.000000   \n",
       "max       13.000000   9410.000000    4820.000000   2015.000000   2015.000000   \n",
       "\n",
       "            zipcode           lat          long  sqft_living15     sqft_lot15  \n",
       "count  21613.000000  21613.000000  21613.000000   21613.000000   21613.000000  \n",
       "mean   98077.939805     47.560053   -122.213896    1986.552492   12768.455652  \n",
       "std       53.505026      0.138564      0.140828     685.391304   27304.179631  \n",
       "min    98001.000000     47.155900   -122.519000     399.000000     651.000000  \n",
       "25%    98033.000000     47.471000   -122.328000    1490.000000    5100.000000  \n",
       "50%    98065.000000     47.571800   -122.230000    1840.000000    7620.000000  \n",
       "75%    98118.000000     47.678000   -122.125000    2360.000000   10083.000000  \n",
       "max    98199.000000     47.777600   -121.315000    6210.000000  871200.000000  "
      ]
     },
     "execution_count": 346,
     "metadata": {},
     "output_type": "execute_result"
    }
   ],
   "source": [
    "df.describe()"
   ]
  },
  {
   "cell_type": "markdown",
   "id": "402748e5",
   "metadata": {},
   "source": [
    "#### TIpos da Variáveis"
   ]
  },
  {
   "cell_type": "code",
   "execution_count": 347,
   "id": "adfc2ffe",
   "metadata": {},
   "outputs": [
    {
     "data": {
      "text/plain": [
       "id                 int64\n",
       "date              object\n",
       "price            float64\n",
       "bedrooms           int64\n",
       "bathrooms        float64\n",
       "sqft_living        int64\n",
       "sqft_lot           int64\n",
       "floors           float64\n",
       "waterfront         int64\n",
       "view               int64\n",
       "condition          int64\n",
       "grade              int64\n",
       "sqft_above         int64\n",
       "sqft_basement      int64\n",
       "yr_built           int64\n",
       "yr_renovated       int64\n",
       "zipcode            int64\n",
       "lat              float64\n",
       "long             float64\n",
       "sqft_living15      int64\n",
       "sqft_lot15         int64\n",
       "dtype: object"
      ]
     },
     "execution_count": 347,
     "metadata": {},
     "output_type": "execute_result"
    }
   ],
   "source": [
    "df.dtypes"
   ]
  },
  {
   "cell_type": "markdown",
   "id": "5a413338",
   "metadata": {},
   "source": [
    "#### Dados"
   ]
  },
  {
   "cell_type": "code",
   "execution_count": 348,
   "id": "5bcc2470",
   "metadata": {},
   "outputs": [
    {
     "data": {
      "text/html": [
       "<div>\n",
       "<style scoped>\n",
       "    .dataframe tbody tr th:only-of-type {\n",
       "        vertical-align: middle;\n",
       "    }\n",
       "\n",
       "    .dataframe tbody tr th {\n",
       "        vertical-align: top;\n",
       "    }\n",
       "\n",
       "    .dataframe thead th {\n",
       "        text-align: right;\n",
       "    }\n",
       "</style>\n",
       "<table border=\"1\" class=\"dataframe\">\n",
       "  <thead>\n",
       "    <tr style=\"text-align: right;\">\n",
       "      <th></th>\n",
       "      <th>id</th>\n",
       "      <th>date</th>\n",
       "      <th>price</th>\n",
       "      <th>bedrooms</th>\n",
       "      <th>bathrooms</th>\n",
       "      <th>sqft_living</th>\n",
       "      <th>sqft_lot</th>\n",
       "      <th>floors</th>\n",
       "      <th>waterfront</th>\n",
       "      <th>view</th>\n",
       "      <th>...</th>\n",
       "      <th>grade</th>\n",
       "      <th>sqft_above</th>\n",
       "      <th>sqft_basement</th>\n",
       "      <th>yr_built</th>\n",
       "      <th>yr_renovated</th>\n",
       "      <th>zipcode</th>\n",
       "      <th>lat</th>\n",
       "      <th>long</th>\n",
       "      <th>sqft_living15</th>\n",
       "      <th>sqft_lot15</th>\n",
       "    </tr>\n",
       "  </thead>\n",
       "  <tbody>\n",
       "    <tr>\n",
       "      <th>0</th>\n",
       "      <td>7129300520</td>\n",
       "      <td>20141013T000000</td>\n",
       "      <td>221900.0</td>\n",
       "      <td>3</td>\n",
       "      <td>1.00</td>\n",
       "      <td>1180</td>\n",
       "      <td>5650</td>\n",
       "      <td>1.0</td>\n",
       "      <td>0</td>\n",
       "      <td>0</td>\n",
       "      <td>...</td>\n",
       "      <td>7</td>\n",
       "      <td>1180</td>\n",
       "      <td>0</td>\n",
       "      <td>1955</td>\n",
       "      <td>0</td>\n",
       "      <td>98178</td>\n",
       "      <td>47.5112</td>\n",
       "      <td>-122.257</td>\n",
       "      <td>1340</td>\n",
       "      <td>5650</td>\n",
       "    </tr>\n",
       "    <tr>\n",
       "      <th>1</th>\n",
       "      <td>6414100192</td>\n",
       "      <td>20141209T000000</td>\n",
       "      <td>538000.0</td>\n",
       "      <td>3</td>\n",
       "      <td>2.25</td>\n",
       "      <td>2570</td>\n",
       "      <td>7242</td>\n",
       "      <td>2.0</td>\n",
       "      <td>0</td>\n",
       "      <td>0</td>\n",
       "      <td>...</td>\n",
       "      <td>7</td>\n",
       "      <td>2170</td>\n",
       "      <td>400</td>\n",
       "      <td>1951</td>\n",
       "      <td>1991</td>\n",
       "      <td>98125</td>\n",
       "      <td>47.7210</td>\n",
       "      <td>-122.319</td>\n",
       "      <td>1690</td>\n",
       "      <td>7639</td>\n",
       "    </tr>\n",
       "    <tr>\n",
       "      <th>2</th>\n",
       "      <td>5631500400</td>\n",
       "      <td>20150225T000000</td>\n",
       "      <td>180000.0</td>\n",
       "      <td>2</td>\n",
       "      <td>1.00</td>\n",
       "      <td>770</td>\n",
       "      <td>10000</td>\n",
       "      <td>1.0</td>\n",
       "      <td>0</td>\n",
       "      <td>0</td>\n",
       "      <td>...</td>\n",
       "      <td>6</td>\n",
       "      <td>770</td>\n",
       "      <td>0</td>\n",
       "      <td>1933</td>\n",
       "      <td>0</td>\n",
       "      <td>98028</td>\n",
       "      <td>47.7379</td>\n",
       "      <td>-122.233</td>\n",
       "      <td>2720</td>\n",
       "      <td>8062</td>\n",
       "    </tr>\n",
       "    <tr>\n",
       "      <th>3</th>\n",
       "      <td>2487200875</td>\n",
       "      <td>20141209T000000</td>\n",
       "      <td>604000.0</td>\n",
       "      <td>4</td>\n",
       "      <td>3.00</td>\n",
       "      <td>1960</td>\n",
       "      <td>5000</td>\n",
       "      <td>1.0</td>\n",
       "      <td>0</td>\n",
       "      <td>0</td>\n",
       "      <td>...</td>\n",
       "      <td>7</td>\n",
       "      <td>1050</td>\n",
       "      <td>910</td>\n",
       "      <td>1965</td>\n",
       "      <td>0</td>\n",
       "      <td>98136</td>\n",
       "      <td>47.5208</td>\n",
       "      <td>-122.393</td>\n",
       "      <td>1360</td>\n",
       "      <td>5000</td>\n",
       "    </tr>\n",
       "    <tr>\n",
       "      <th>4</th>\n",
       "      <td>1954400510</td>\n",
       "      <td>20150218T000000</td>\n",
       "      <td>510000.0</td>\n",
       "      <td>3</td>\n",
       "      <td>2.00</td>\n",
       "      <td>1680</td>\n",
       "      <td>8080</td>\n",
       "      <td>1.0</td>\n",
       "      <td>0</td>\n",
       "      <td>0</td>\n",
       "      <td>...</td>\n",
       "      <td>8</td>\n",
       "      <td>1680</td>\n",
       "      <td>0</td>\n",
       "      <td>1987</td>\n",
       "      <td>0</td>\n",
       "      <td>98074</td>\n",
       "      <td>47.6168</td>\n",
       "      <td>-122.045</td>\n",
       "      <td>1800</td>\n",
       "      <td>7503</td>\n",
       "    </tr>\n",
       "    <tr>\n",
       "      <th>...</th>\n",
       "      <td>...</td>\n",
       "      <td>...</td>\n",
       "      <td>...</td>\n",
       "      <td>...</td>\n",
       "      <td>...</td>\n",
       "      <td>...</td>\n",
       "      <td>...</td>\n",
       "      <td>...</td>\n",
       "      <td>...</td>\n",
       "      <td>...</td>\n",
       "      <td>...</td>\n",
       "      <td>...</td>\n",
       "      <td>...</td>\n",
       "      <td>...</td>\n",
       "      <td>...</td>\n",
       "      <td>...</td>\n",
       "      <td>...</td>\n",
       "      <td>...</td>\n",
       "      <td>...</td>\n",
       "      <td>...</td>\n",
       "      <td>...</td>\n",
       "    </tr>\n",
       "    <tr>\n",
       "      <th>21608</th>\n",
       "      <td>263000018</td>\n",
       "      <td>20140521T000000</td>\n",
       "      <td>360000.0</td>\n",
       "      <td>3</td>\n",
       "      <td>2.50</td>\n",
       "      <td>1530</td>\n",
       "      <td>1131</td>\n",
       "      <td>3.0</td>\n",
       "      <td>0</td>\n",
       "      <td>0</td>\n",
       "      <td>...</td>\n",
       "      <td>8</td>\n",
       "      <td>1530</td>\n",
       "      <td>0</td>\n",
       "      <td>2009</td>\n",
       "      <td>0</td>\n",
       "      <td>98103</td>\n",
       "      <td>47.6993</td>\n",
       "      <td>-122.346</td>\n",
       "      <td>1530</td>\n",
       "      <td>1509</td>\n",
       "    </tr>\n",
       "    <tr>\n",
       "      <th>21609</th>\n",
       "      <td>6600060120</td>\n",
       "      <td>20150223T000000</td>\n",
       "      <td>400000.0</td>\n",
       "      <td>4</td>\n",
       "      <td>2.50</td>\n",
       "      <td>2310</td>\n",
       "      <td>5813</td>\n",
       "      <td>2.0</td>\n",
       "      <td>0</td>\n",
       "      <td>0</td>\n",
       "      <td>...</td>\n",
       "      <td>8</td>\n",
       "      <td>2310</td>\n",
       "      <td>0</td>\n",
       "      <td>2014</td>\n",
       "      <td>0</td>\n",
       "      <td>98146</td>\n",
       "      <td>47.5107</td>\n",
       "      <td>-122.362</td>\n",
       "      <td>1830</td>\n",
       "      <td>7200</td>\n",
       "    </tr>\n",
       "    <tr>\n",
       "      <th>21610</th>\n",
       "      <td>1523300141</td>\n",
       "      <td>20140623T000000</td>\n",
       "      <td>402101.0</td>\n",
       "      <td>2</td>\n",
       "      <td>0.75</td>\n",
       "      <td>1020</td>\n",
       "      <td>1350</td>\n",
       "      <td>2.0</td>\n",
       "      <td>0</td>\n",
       "      <td>0</td>\n",
       "      <td>...</td>\n",
       "      <td>7</td>\n",
       "      <td>1020</td>\n",
       "      <td>0</td>\n",
       "      <td>2009</td>\n",
       "      <td>0</td>\n",
       "      <td>98144</td>\n",
       "      <td>47.5944</td>\n",
       "      <td>-122.299</td>\n",
       "      <td>1020</td>\n",
       "      <td>2007</td>\n",
       "    </tr>\n",
       "    <tr>\n",
       "      <th>21611</th>\n",
       "      <td>291310100</td>\n",
       "      <td>20150116T000000</td>\n",
       "      <td>400000.0</td>\n",
       "      <td>3</td>\n",
       "      <td>2.50</td>\n",
       "      <td>1600</td>\n",
       "      <td>2388</td>\n",
       "      <td>2.0</td>\n",
       "      <td>0</td>\n",
       "      <td>0</td>\n",
       "      <td>...</td>\n",
       "      <td>8</td>\n",
       "      <td>1600</td>\n",
       "      <td>0</td>\n",
       "      <td>2004</td>\n",
       "      <td>0</td>\n",
       "      <td>98027</td>\n",
       "      <td>47.5345</td>\n",
       "      <td>-122.069</td>\n",
       "      <td>1410</td>\n",
       "      <td>1287</td>\n",
       "    </tr>\n",
       "    <tr>\n",
       "      <th>21612</th>\n",
       "      <td>1523300157</td>\n",
       "      <td>20141015T000000</td>\n",
       "      <td>325000.0</td>\n",
       "      <td>2</td>\n",
       "      <td>0.75</td>\n",
       "      <td>1020</td>\n",
       "      <td>1076</td>\n",
       "      <td>2.0</td>\n",
       "      <td>0</td>\n",
       "      <td>0</td>\n",
       "      <td>...</td>\n",
       "      <td>7</td>\n",
       "      <td>1020</td>\n",
       "      <td>0</td>\n",
       "      <td>2008</td>\n",
       "      <td>0</td>\n",
       "      <td>98144</td>\n",
       "      <td>47.5941</td>\n",
       "      <td>-122.299</td>\n",
       "      <td>1020</td>\n",
       "      <td>1357</td>\n",
       "    </tr>\n",
       "  </tbody>\n",
       "</table>\n",
       "<p>21613 rows × 21 columns</p>\n",
       "</div>"
      ],
      "text/plain": [
       "               id             date     price  bedrooms  bathrooms  \\\n",
       "0      7129300520  20141013T000000  221900.0         3       1.00   \n",
       "1      6414100192  20141209T000000  538000.0         3       2.25   \n",
       "2      5631500400  20150225T000000  180000.0         2       1.00   \n",
       "3      2487200875  20141209T000000  604000.0         4       3.00   \n",
       "4      1954400510  20150218T000000  510000.0         3       2.00   \n",
       "...           ...              ...       ...       ...        ...   \n",
       "21608   263000018  20140521T000000  360000.0         3       2.50   \n",
       "21609  6600060120  20150223T000000  400000.0         4       2.50   \n",
       "21610  1523300141  20140623T000000  402101.0         2       0.75   \n",
       "21611   291310100  20150116T000000  400000.0         3       2.50   \n",
       "21612  1523300157  20141015T000000  325000.0         2       0.75   \n",
       "\n",
       "       sqft_living  sqft_lot  floors  waterfront  view  ...  grade  \\\n",
       "0             1180      5650     1.0           0     0  ...      7   \n",
       "1             2570      7242     2.0           0     0  ...      7   \n",
       "2              770     10000     1.0           0     0  ...      6   \n",
       "3             1960      5000     1.0           0     0  ...      7   \n",
       "4             1680      8080     1.0           0     0  ...      8   \n",
       "...            ...       ...     ...         ...   ...  ...    ...   \n",
       "21608         1530      1131     3.0           0     0  ...      8   \n",
       "21609         2310      5813     2.0           0     0  ...      8   \n",
       "21610         1020      1350     2.0           0     0  ...      7   \n",
       "21611         1600      2388     2.0           0     0  ...      8   \n",
       "21612         1020      1076     2.0           0     0  ...      7   \n",
       "\n",
       "       sqft_above  sqft_basement  yr_built  yr_renovated  zipcode      lat  \\\n",
       "0            1180              0      1955             0    98178  47.5112   \n",
       "1            2170            400      1951          1991    98125  47.7210   \n",
       "2             770              0      1933             0    98028  47.7379   \n",
       "3            1050            910      1965             0    98136  47.5208   \n",
       "4            1680              0      1987             0    98074  47.6168   \n",
       "...           ...            ...       ...           ...      ...      ...   \n",
       "21608        1530              0      2009             0    98103  47.6993   \n",
       "21609        2310              0      2014             0    98146  47.5107   \n",
       "21610        1020              0      2009             0    98144  47.5944   \n",
       "21611        1600              0      2004             0    98027  47.5345   \n",
       "21612        1020              0      2008             0    98144  47.5941   \n",
       "\n",
       "          long  sqft_living15  sqft_lot15  \n",
       "0     -122.257           1340        5650  \n",
       "1     -122.319           1690        7639  \n",
       "2     -122.233           2720        8062  \n",
       "3     -122.393           1360        5000  \n",
       "4     -122.045           1800        7503  \n",
       "...        ...            ...         ...  \n",
       "21608 -122.346           1530        1509  \n",
       "21609 -122.362           1830        7200  \n",
       "21610 -122.299           1020        2007  \n",
       "21611 -122.069           1410        1287  \n",
       "21612 -122.299           1020        1357  \n",
       "\n",
       "[21613 rows x 21 columns]"
      ]
     },
     "execution_count": 348,
     "metadata": {},
     "output_type": "execute_result"
    }
   ],
   "source": [
    "df"
   ]
  },
  {
   "cell_type": "markdown",
   "id": "32c02671",
   "metadata": {},
   "source": [
    "#### Conversão das datas "
   ]
  },
  {
   "cell_type": "code",
   "execution_count": 349,
   "id": "4cedd0df",
   "metadata": {},
   "outputs": [],
   "source": [
    "df['date'] = pd.to_datetime(df['date'])"
   ]
  },
  {
   "cell_type": "markdown",
   "id": "c3810aa5",
   "metadata": {},
   "source": [
    "#### Paleta de cores"
   ]
  },
  {
   "cell_type": "code",
   "execution_count": 350,
   "id": "164d27dd",
   "metadata": {},
   "outputs": [],
   "source": [
    "my_palette = [\"#00FA9A\", \"#98FB98\", \"#32CD32\", \"#6B8E23\"]\n",
    "palette = sns.color_palette(my_palette)"
   ]
  },
  {
   "cell_type": "markdown",
   "id": "d0063824",
   "metadata": {},
   "source": [
    "<hr style=\"border: none; height: 3px; background-color: #228B22; margin: 0;\">"
   ]
  },
  {
   "cell_type": "markdown",
   "id": "df69d54c",
   "metadata": {},
   "source": [
    "<div> <h2 style = 'color: #228B22' > Limpreza e Tratamento dos Dados </h2> </div>"
   ]
  },
  {
   "cell_type": "markdown",
   "id": "3f870d7b",
   "metadata": {},
   "source": [
    "#### Cópia independente "
   ]
  },
  {
   "cell_type": "code",
   "execution_count": 351,
   "id": "5dccdc6c",
   "metadata": {},
   "outputs": [],
   "source": [
    "df = df.copy()"
   ]
  },
  {
   "cell_type": "markdown",
   "id": "334629d6",
   "metadata": {},
   "source": [
    "#### Eliminando itens duplicados "
   ]
  },
  {
   "cell_type": "code",
   "execution_count": 352,
   "id": "8657986c",
   "metadata": {},
   "outputs": [],
   "source": [
    "df = df.drop_duplicates(subset=['id'], keep='last')"
   ]
  },
  {
   "cell_type": "code",
   "execution_count": 353,
   "id": "45ef7fd0",
   "metadata": {},
   "outputs": [
    {
     "data": {
      "text/html": [
       "<div>\n",
       "<style scoped>\n",
       "    .dataframe tbody tr th:only-of-type {\n",
       "        vertical-align: middle;\n",
       "    }\n",
       "\n",
       "    .dataframe tbody tr th {\n",
       "        vertical-align: top;\n",
       "    }\n",
       "\n",
       "    .dataframe thead th {\n",
       "        text-align: right;\n",
       "    }\n",
       "</style>\n",
       "<table border=\"1\" class=\"dataframe\">\n",
       "  <thead>\n",
       "    <tr style=\"text-align: right;\">\n",
       "      <th></th>\n",
       "      <th>id</th>\n",
       "      <th>date</th>\n",
       "      <th>price</th>\n",
       "      <th>bedrooms</th>\n",
       "      <th>bathrooms</th>\n",
       "      <th>sqft_living</th>\n",
       "      <th>sqft_lot</th>\n",
       "      <th>floors</th>\n",
       "      <th>waterfront</th>\n",
       "      <th>view</th>\n",
       "      <th>...</th>\n",
       "      <th>grade</th>\n",
       "      <th>sqft_above</th>\n",
       "      <th>sqft_basement</th>\n",
       "      <th>yr_built</th>\n",
       "      <th>yr_renovated</th>\n",
       "      <th>zipcode</th>\n",
       "      <th>lat</th>\n",
       "      <th>long</th>\n",
       "      <th>sqft_living15</th>\n",
       "      <th>sqft_lot15</th>\n",
       "    </tr>\n",
       "  </thead>\n",
       "  <tbody>\n",
       "    <tr>\n",
       "      <th>0</th>\n",
       "      <td>7129300520</td>\n",
       "      <td>2014-10-13</td>\n",
       "      <td>221900.0</td>\n",
       "      <td>3</td>\n",
       "      <td>1.00</td>\n",
       "      <td>1180</td>\n",
       "      <td>5650</td>\n",
       "      <td>1.0</td>\n",
       "      <td>0</td>\n",
       "      <td>0</td>\n",
       "      <td>...</td>\n",
       "      <td>7</td>\n",
       "      <td>1180</td>\n",
       "      <td>0</td>\n",
       "      <td>1955</td>\n",
       "      <td>0</td>\n",
       "      <td>98178</td>\n",
       "      <td>47.5112</td>\n",
       "      <td>-122.257</td>\n",
       "      <td>1340</td>\n",
       "      <td>5650</td>\n",
       "    </tr>\n",
       "    <tr>\n",
       "      <th>1</th>\n",
       "      <td>6414100192</td>\n",
       "      <td>2014-12-09</td>\n",
       "      <td>538000.0</td>\n",
       "      <td>3</td>\n",
       "      <td>2.25</td>\n",
       "      <td>2570</td>\n",
       "      <td>7242</td>\n",
       "      <td>2.0</td>\n",
       "      <td>0</td>\n",
       "      <td>0</td>\n",
       "      <td>...</td>\n",
       "      <td>7</td>\n",
       "      <td>2170</td>\n",
       "      <td>400</td>\n",
       "      <td>1951</td>\n",
       "      <td>1991</td>\n",
       "      <td>98125</td>\n",
       "      <td>47.7210</td>\n",
       "      <td>-122.319</td>\n",
       "      <td>1690</td>\n",
       "      <td>7639</td>\n",
       "    </tr>\n",
       "    <tr>\n",
       "      <th>2</th>\n",
       "      <td>5631500400</td>\n",
       "      <td>2015-02-25</td>\n",
       "      <td>180000.0</td>\n",
       "      <td>2</td>\n",
       "      <td>1.00</td>\n",
       "      <td>770</td>\n",
       "      <td>10000</td>\n",
       "      <td>1.0</td>\n",
       "      <td>0</td>\n",
       "      <td>0</td>\n",
       "      <td>...</td>\n",
       "      <td>6</td>\n",
       "      <td>770</td>\n",
       "      <td>0</td>\n",
       "      <td>1933</td>\n",
       "      <td>0</td>\n",
       "      <td>98028</td>\n",
       "      <td>47.7379</td>\n",
       "      <td>-122.233</td>\n",
       "      <td>2720</td>\n",
       "      <td>8062</td>\n",
       "    </tr>\n",
       "    <tr>\n",
       "      <th>3</th>\n",
       "      <td>2487200875</td>\n",
       "      <td>2014-12-09</td>\n",
       "      <td>604000.0</td>\n",
       "      <td>4</td>\n",
       "      <td>3.00</td>\n",
       "      <td>1960</td>\n",
       "      <td>5000</td>\n",
       "      <td>1.0</td>\n",
       "      <td>0</td>\n",
       "      <td>0</td>\n",
       "      <td>...</td>\n",
       "      <td>7</td>\n",
       "      <td>1050</td>\n",
       "      <td>910</td>\n",
       "      <td>1965</td>\n",
       "      <td>0</td>\n",
       "      <td>98136</td>\n",
       "      <td>47.5208</td>\n",
       "      <td>-122.393</td>\n",
       "      <td>1360</td>\n",
       "      <td>5000</td>\n",
       "    </tr>\n",
       "    <tr>\n",
       "      <th>4</th>\n",
       "      <td>1954400510</td>\n",
       "      <td>2015-02-18</td>\n",
       "      <td>510000.0</td>\n",
       "      <td>3</td>\n",
       "      <td>2.00</td>\n",
       "      <td>1680</td>\n",
       "      <td>8080</td>\n",
       "      <td>1.0</td>\n",
       "      <td>0</td>\n",
       "      <td>0</td>\n",
       "      <td>...</td>\n",
       "      <td>8</td>\n",
       "      <td>1680</td>\n",
       "      <td>0</td>\n",
       "      <td>1987</td>\n",
       "      <td>0</td>\n",
       "      <td>98074</td>\n",
       "      <td>47.6168</td>\n",
       "      <td>-122.045</td>\n",
       "      <td>1800</td>\n",
       "      <td>7503</td>\n",
       "    </tr>\n",
       "    <tr>\n",
       "      <th>...</th>\n",
       "      <td>...</td>\n",
       "      <td>...</td>\n",
       "      <td>...</td>\n",
       "      <td>...</td>\n",
       "      <td>...</td>\n",
       "      <td>...</td>\n",
       "      <td>...</td>\n",
       "      <td>...</td>\n",
       "      <td>...</td>\n",
       "      <td>...</td>\n",
       "      <td>...</td>\n",
       "      <td>...</td>\n",
       "      <td>...</td>\n",
       "      <td>...</td>\n",
       "      <td>...</td>\n",
       "      <td>...</td>\n",
       "      <td>...</td>\n",
       "      <td>...</td>\n",
       "      <td>...</td>\n",
       "      <td>...</td>\n",
       "      <td>...</td>\n",
       "    </tr>\n",
       "    <tr>\n",
       "      <th>21608</th>\n",
       "      <td>263000018</td>\n",
       "      <td>2014-05-21</td>\n",
       "      <td>360000.0</td>\n",
       "      <td>3</td>\n",
       "      <td>2.50</td>\n",
       "      <td>1530</td>\n",
       "      <td>1131</td>\n",
       "      <td>3.0</td>\n",
       "      <td>0</td>\n",
       "      <td>0</td>\n",
       "      <td>...</td>\n",
       "      <td>8</td>\n",
       "      <td>1530</td>\n",
       "      <td>0</td>\n",
       "      <td>2009</td>\n",
       "      <td>0</td>\n",
       "      <td>98103</td>\n",
       "      <td>47.6993</td>\n",
       "      <td>-122.346</td>\n",
       "      <td>1530</td>\n",
       "      <td>1509</td>\n",
       "    </tr>\n",
       "    <tr>\n",
       "      <th>21609</th>\n",
       "      <td>6600060120</td>\n",
       "      <td>2015-02-23</td>\n",
       "      <td>400000.0</td>\n",
       "      <td>4</td>\n",
       "      <td>2.50</td>\n",
       "      <td>2310</td>\n",
       "      <td>5813</td>\n",
       "      <td>2.0</td>\n",
       "      <td>0</td>\n",
       "      <td>0</td>\n",
       "      <td>...</td>\n",
       "      <td>8</td>\n",
       "      <td>2310</td>\n",
       "      <td>0</td>\n",
       "      <td>2014</td>\n",
       "      <td>0</td>\n",
       "      <td>98146</td>\n",
       "      <td>47.5107</td>\n",
       "      <td>-122.362</td>\n",
       "      <td>1830</td>\n",
       "      <td>7200</td>\n",
       "    </tr>\n",
       "    <tr>\n",
       "      <th>21610</th>\n",
       "      <td>1523300141</td>\n",
       "      <td>2014-06-23</td>\n",
       "      <td>402101.0</td>\n",
       "      <td>2</td>\n",
       "      <td>0.75</td>\n",
       "      <td>1020</td>\n",
       "      <td>1350</td>\n",
       "      <td>2.0</td>\n",
       "      <td>0</td>\n",
       "      <td>0</td>\n",
       "      <td>...</td>\n",
       "      <td>7</td>\n",
       "      <td>1020</td>\n",
       "      <td>0</td>\n",
       "      <td>2009</td>\n",
       "      <td>0</td>\n",
       "      <td>98144</td>\n",
       "      <td>47.5944</td>\n",
       "      <td>-122.299</td>\n",
       "      <td>1020</td>\n",
       "      <td>2007</td>\n",
       "    </tr>\n",
       "    <tr>\n",
       "      <th>21611</th>\n",
       "      <td>291310100</td>\n",
       "      <td>2015-01-16</td>\n",
       "      <td>400000.0</td>\n",
       "      <td>3</td>\n",
       "      <td>2.50</td>\n",
       "      <td>1600</td>\n",
       "      <td>2388</td>\n",
       "      <td>2.0</td>\n",
       "      <td>0</td>\n",
       "      <td>0</td>\n",
       "      <td>...</td>\n",
       "      <td>8</td>\n",
       "      <td>1600</td>\n",
       "      <td>0</td>\n",
       "      <td>2004</td>\n",
       "      <td>0</td>\n",
       "      <td>98027</td>\n",
       "      <td>47.5345</td>\n",
       "      <td>-122.069</td>\n",
       "      <td>1410</td>\n",
       "      <td>1287</td>\n",
       "    </tr>\n",
       "    <tr>\n",
       "      <th>21612</th>\n",
       "      <td>1523300157</td>\n",
       "      <td>2014-10-15</td>\n",
       "      <td>325000.0</td>\n",
       "      <td>2</td>\n",
       "      <td>0.75</td>\n",
       "      <td>1020</td>\n",
       "      <td>1076</td>\n",
       "      <td>2.0</td>\n",
       "      <td>0</td>\n",
       "      <td>0</td>\n",
       "      <td>...</td>\n",
       "      <td>7</td>\n",
       "      <td>1020</td>\n",
       "      <td>0</td>\n",
       "      <td>2008</td>\n",
       "      <td>0</td>\n",
       "      <td>98144</td>\n",
       "      <td>47.5941</td>\n",
       "      <td>-122.299</td>\n",
       "      <td>1020</td>\n",
       "      <td>1357</td>\n",
       "    </tr>\n",
       "  </tbody>\n",
       "</table>\n",
       "<p>21436 rows × 21 columns</p>\n",
       "</div>"
      ],
      "text/plain": [
       "               id       date     price  bedrooms  bathrooms  sqft_living  \\\n",
       "0      7129300520 2014-10-13  221900.0         3       1.00         1180   \n",
       "1      6414100192 2014-12-09  538000.0         3       2.25         2570   \n",
       "2      5631500400 2015-02-25  180000.0         2       1.00          770   \n",
       "3      2487200875 2014-12-09  604000.0         4       3.00         1960   \n",
       "4      1954400510 2015-02-18  510000.0         3       2.00         1680   \n",
       "...           ...        ...       ...       ...        ...          ...   \n",
       "21608   263000018 2014-05-21  360000.0         3       2.50         1530   \n",
       "21609  6600060120 2015-02-23  400000.0         4       2.50         2310   \n",
       "21610  1523300141 2014-06-23  402101.0         2       0.75         1020   \n",
       "21611   291310100 2015-01-16  400000.0         3       2.50         1600   \n",
       "21612  1523300157 2014-10-15  325000.0         2       0.75         1020   \n",
       "\n",
       "       sqft_lot  floors  waterfront  view  ...  grade  sqft_above  \\\n",
       "0          5650     1.0           0     0  ...      7        1180   \n",
       "1          7242     2.0           0     0  ...      7        2170   \n",
       "2         10000     1.0           0     0  ...      6         770   \n",
       "3          5000     1.0           0     0  ...      7        1050   \n",
       "4          8080     1.0           0     0  ...      8        1680   \n",
       "...         ...     ...         ...   ...  ...    ...         ...   \n",
       "21608      1131     3.0           0     0  ...      8        1530   \n",
       "21609      5813     2.0           0     0  ...      8        2310   \n",
       "21610      1350     2.0           0     0  ...      7        1020   \n",
       "21611      2388     2.0           0     0  ...      8        1600   \n",
       "21612      1076     2.0           0     0  ...      7        1020   \n",
       "\n",
       "       sqft_basement  yr_built  yr_renovated  zipcode      lat     long  \\\n",
       "0                  0      1955             0    98178  47.5112 -122.257   \n",
       "1                400      1951          1991    98125  47.7210 -122.319   \n",
       "2                  0      1933             0    98028  47.7379 -122.233   \n",
       "3                910      1965             0    98136  47.5208 -122.393   \n",
       "4                  0      1987             0    98074  47.6168 -122.045   \n",
       "...              ...       ...           ...      ...      ...      ...   \n",
       "21608              0      2009             0    98103  47.6993 -122.346   \n",
       "21609              0      2014             0    98146  47.5107 -122.362   \n",
       "21610              0      2009             0    98144  47.5944 -122.299   \n",
       "21611              0      2004             0    98027  47.5345 -122.069   \n",
       "21612              0      2008             0    98144  47.5941 -122.299   \n",
       "\n",
       "       sqft_living15  sqft_lot15  \n",
       "0               1340        5650  \n",
       "1               1690        7639  \n",
       "2               2720        8062  \n",
       "3               1360        5000  \n",
       "4               1800        7503  \n",
       "...              ...         ...  \n",
       "21608           1530        1509  \n",
       "21609           1830        7200  \n",
       "21610           1020        2007  \n",
       "21611           1410        1287  \n",
       "21612           1020        1357  \n",
       "\n",
       "[21436 rows x 21 columns]"
      ]
     },
     "execution_count": 353,
     "metadata": {},
     "output_type": "execute_result"
    }
   ],
   "source": [
    "df"
   ]
  },
  {
   "cell_type": "markdown",
   "id": "34093042",
   "metadata": {},
   "source": [
    "#### Verificando valores ausentes "
   ]
  },
  {
   "cell_type": "code",
   "execution_count": 354,
   "id": "2f308b38",
   "metadata": {},
   "outputs": [
    {
     "data": {
      "text/plain": [
       "id               0\n",
       "date             0\n",
       "price            0\n",
       "bedrooms         0\n",
       "bathrooms        0\n",
       "sqft_living      0\n",
       "sqft_lot         0\n",
       "floors           0\n",
       "waterfront       0\n",
       "view             0\n",
       "condition        0\n",
       "grade            0\n",
       "sqft_above       0\n",
       "sqft_basement    0\n",
       "yr_built         0\n",
       "yr_renovated     0\n",
       "zipcode          0\n",
       "lat              0\n",
       "long             0\n",
       "sqft_living15    0\n",
       "sqft_lot15       0\n",
       "dtype: int64"
      ]
     },
     "execution_count": 354,
     "metadata": {},
     "output_type": "execute_result"
    }
   ],
   "source": [
    "df.isnull().sum()"
   ]
  },
  {
   "cell_type": "markdown",
   "id": "953bc9f4",
   "metadata": {},
   "source": []
  },
  {
   "cell_type": "markdown",
   "id": "e8b8d07c",
   "metadata": {},
   "source": [
    "#### Alterando o número de quartos da linha 15870 de 33 para 3"
   ]
  },
  {
   "cell_type": "code",
   "execution_count": 355,
   "id": "d6fd4b39",
   "metadata": {
    "scrolled": true
   },
   "outputs": [
    {
     "data": {
      "text/html": [
       "<div>\n",
       "<style scoped>\n",
       "    .dataframe tbody tr th:only-of-type {\n",
       "        vertical-align: middle;\n",
       "    }\n",
       "\n",
       "    .dataframe tbody tr th {\n",
       "        vertical-align: top;\n",
       "    }\n",
       "\n",
       "    .dataframe thead th {\n",
       "        text-align: right;\n",
       "    }\n",
       "</style>\n",
       "<table border=\"1\" class=\"dataframe\">\n",
       "  <thead>\n",
       "    <tr style=\"text-align: right;\">\n",
       "      <th></th>\n",
       "      <th>id</th>\n",
       "      <th>date</th>\n",
       "      <th>price</th>\n",
       "      <th>bedrooms</th>\n",
       "      <th>bathrooms</th>\n",
       "      <th>sqft_living</th>\n",
       "      <th>sqft_lot</th>\n",
       "      <th>floors</th>\n",
       "      <th>waterfront</th>\n",
       "      <th>view</th>\n",
       "      <th>...</th>\n",
       "      <th>grade</th>\n",
       "      <th>sqft_above</th>\n",
       "      <th>sqft_basement</th>\n",
       "      <th>yr_built</th>\n",
       "      <th>yr_renovated</th>\n",
       "      <th>zipcode</th>\n",
       "      <th>lat</th>\n",
       "      <th>long</th>\n",
       "      <th>sqft_living15</th>\n",
       "      <th>sqft_lot15</th>\n",
       "    </tr>\n",
       "  </thead>\n",
       "  <tbody>\n",
       "    <tr>\n",
       "      <th>15870</th>\n",
       "      <td>2402100895</td>\n",
       "      <td>2014-06-25</td>\n",
       "      <td>640000.0</td>\n",
       "      <td>33</td>\n",
       "      <td>1.75</td>\n",
       "      <td>1620</td>\n",
       "      <td>6000</td>\n",
       "      <td>1.0</td>\n",
       "      <td>0</td>\n",
       "      <td>0</td>\n",
       "      <td>...</td>\n",
       "      <td>7</td>\n",
       "      <td>1040</td>\n",
       "      <td>580</td>\n",
       "      <td>1947</td>\n",
       "      <td>0</td>\n",
       "      <td>98103</td>\n",
       "      <td>47.6878</td>\n",
       "      <td>-122.331</td>\n",
       "      <td>1330</td>\n",
       "      <td>4700</td>\n",
       "    </tr>\n",
       "  </tbody>\n",
       "</table>\n",
       "<p>1 rows × 21 columns</p>\n",
       "</div>"
      ],
      "text/plain": [
       "               id       date     price  bedrooms  bathrooms  sqft_living  \\\n",
       "15870  2402100895 2014-06-25  640000.0        33       1.75         1620   \n",
       "\n",
       "       sqft_lot  floors  waterfront  view  ...  grade  sqft_above  \\\n",
       "15870      6000     1.0           0     0  ...      7        1040   \n",
       "\n",
       "       sqft_basement  yr_built  yr_renovated  zipcode      lat     long  \\\n",
       "15870            580      1947             0    98103  47.6878 -122.331   \n",
       "\n",
       "       sqft_living15  sqft_lot15  \n",
       "15870           1330        4700  \n",
       "\n",
       "[1 rows x 21 columns]"
      ]
     },
     "execution_count": 355,
     "metadata": {},
     "output_type": "execute_result"
    }
   ],
   "source": [
    "df.loc[df['bedrooms'] == 33]"
   ]
  },
  {
   "cell_type": "code",
   "execution_count": 356,
   "id": "270cb4a0",
   "metadata": {},
   "outputs": [],
   "source": [
    "df = df.drop(15870)"
   ]
  },
  {
   "cell_type": "code",
   "execution_count": 357,
   "id": "c7276def",
   "metadata": {},
   "outputs": [
    {
     "data": {
      "text/plain": [
       "array([ 3,  2,  4,  5,  1,  6,  7,  0,  8,  9, 11, 10], dtype=int64)"
      ]
     },
     "execution_count": 357,
     "metadata": {},
     "output_type": "execute_result"
    }
   ],
   "source": [
    "df['bedrooms'].unique()"
   ]
  },
  {
   "cell_type": "markdown",
   "id": "6772b6e7",
   "metadata": {},
   "source": [
    "#### Adicionando features "
   ]
  },
  {
   "cell_type": "code",
   "execution_count": 358,
   "id": "086a43fb",
   "metadata": {},
   "outputs": [],
   "source": [
    "#Numero de banheiros\n",
    "df['bathroom_range'] = pd.cut(df['bathrooms'], bins=[0, 3, 5, float('inf')], labels=['0-3', '3-5', '5+'])\n",
    "\n",
    "#Ano de Construção \n",
    "df['yr_built_range'] = pd.cut(df['yr_built'], bins=[0, 1955, float('inf')], labels=['< 1955', '>1955'])\n",
    "\n",
    "#Reconstrução\n",
    "for i, row in df.iterrows():\n",
    "    if row['yr_renovated'] != 0:\n",
    "        df.at[i, 'yr_renovated_bit'] = 'Sim'\n",
    "    else:\n",
    "        df.at[i, 'yr_renovated_bit'] = 'Não'\n",
    "        \n",
    "#Mês \n",
    "df['mes'] = df['date'].dt.month\n",
    "        \n",
    "# Estação do ano        \n",
    "df['season'] = pd.to_datetime(df['date']).dt.quarter.map({1: 'Inverno', 2: 'Primavera', 3: 'Verão', 4: 'Outono'})\n"
   ]
  },
  {
   "cell_type": "code",
   "execution_count": 359,
   "id": "a3dfe867",
   "metadata": {},
   "outputs": [
    {
     "data": {
      "text/html": [
       "<div>\n",
       "<style scoped>\n",
       "    .dataframe tbody tr th:only-of-type {\n",
       "        vertical-align: middle;\n",
       "    }\n",
       "\n",
       "    .dataframe tbody tr th {\n",
       "        vertical-align: top;\n",
       "    }\n",
       "\n",
       "    .dataframe thead th {\n",
       "        text-align: right;\n",
       "    }\n",
       "</style>\n",
       "<table border=\"1\" class=\"dataframe\">\n",
       "  <thead>\n",
       "    <tr style=\"text-align: right;\">\n",
       "      <th></th>\n",
       "      <th>id</th>\n",
       "      <th>date</th>\n",
       "      <th>price</th>\n",
       "      <th>bedrooms</th>\n",
       "      <th>bathrooms</th>\n",
       "      <th>sqft_living</th>\n",
       "      <th>sqft_lot</th>\n",
       "      <th>floors</th>\n",
       "      <th>waterfront</th>\n",
       "      <th>view</th>\n",
       "      <th>...</th>\n",
       "      <th>zipcode</th>\n",
       "      <th>lat</th>\n",
       "      <th>long</th>\n",
       "      <th>sqft_living15</th>\n",
       "      <th>sqft_lot15</th>\n",
       "      <th>bathroom_range</th>\n",
       "      <th>yr_built_range</th>\n",
       "      <th>yr_renovated_bit</th>\n",
       "      <th>mes</th>\n",
       "      <th>season</th>\n",
       "    </tr>\n",
       "  </thead>\n",
       "  <tbody>\n",
       "    <tr>\n",
       "      <th>0</th>\n",
       "      <td>7129300520</td>\n",
       "      <td>2014-10-13</td>\n",
       "      <td>221900.0</td>\n",
       "      <td>3</td>\n",
       "      <td>1.00</td>\n",
       "      <td>1180</td>\n",
       "      <td>5650</td>\n",
       "      <td>1.0</td>\n",
       "      <td>0</td>\n",
       "      <td>0</td>\n",
       "      <td>...</td>\n",
       "      <td>98178</td>\n",
       "      <td>47.5112</td>\n",
       "      <td>-122.257</td>\n",
       "      <td>1340</td>\n",
       "      <td>5650</td>\n",
       "      <td>0-3</td>\n",
       "      <td>&lt; 1955</td>\n",
       "      <td>Não</td>\n",
       "      <td>10</td>\n",
       "      <td>Outono</td>\n",
       "    </tr>\n",
       "    <tr>\n",
       "      <th>1</th>\n",
       "      <td>6414100192</td>\n",
       "      <td>2014-12-09</td>\n",
       "      <td>538000.0</td>\n",
       "      <td>3</td>\n",
       "      <td>2.25</td>\n",
       "      <td>2570</td>\n",
       "      <td>7242</td>\n",
       "      <td>2.0</td>\n",
       "      <td>0</td>\n",
       "      <td>0</td>\n",
       "      <td>...</td>\n",
       "      <td>98125</td>\n",
       "      <td>47.7210</td>\n",
       "      <td>-122.319</td>\n",
       "      <td>1690</td>\n",
       "      <td>7639</td>\n",
       "      <td>0-3</td>\n",
       "      <td>&lt; 1955</td>\n",
       "      <td>Sim</td>\n",
       "      <td>12</td>\n",
       "      <td>Outono</td>\n",
       "    </tr>\n",
       "    <tr>\n",
       "      <th>2</th>\n",
       "      <td>5631500400</td>\n",
       "      <td>2015-02-25</td>\n",
       "      <td>180000.0</td>\n",
       "      <td>2</td>\n",
       "      <td>1.00</td>\n",
       "      <td>770</td>\n",
       "      <td>10000</td>\n",
       "      <td>1.0</td>\n",
       "      <td>0</td>\n",
       "      <td>0</td>\n",
       "      <td>...</td>\n",
       "      <td>98028</td>\n",
       "      <td>47.7379</td>\n",
       "      <td>-122.233</td>\n",
       "      <td>2720</td>\n",
       "      <td>8062</td>\n",
       "      <td>0-3</td>\n",
       "      <td>&lt; 1955</td>\n",
       "      <td>Não</td>\n",
       "      <td>2</td>\n",
       "      <td>Inverno</td>\n",
       "    </tr>\n",
       "    <tr>\n",
       "      <th>3</th>\n",
       "      <td>2487200875</td>\n",
       "      <td>2014-12-09</td>\n",
       "      <td>604000.0</td>\n",
       "      <td>4</td>\n",
       "      <td>3.00</td>\n",
       "      <td>1960</td>\n",
       "      <td>5000</td>\n",
       "      <td>1.0</td>\n",
       "      <td>0</td>\n",
       "      <td>0</td>\n",
       "      <td>...</td>\n",
       "      <td>98136</td>\n",
       "      <td>47.5208</td>\n",
       "      <td>-122.393</td>\n",
       "      <td>1360</td>\n",
       "      <td>5000</td>\n",
       "      <td>0-3</td>\n",
       "      <td>&gt;1955</td>\n",
       "      <td>Não</td>\n",
       "      <td>12</td>\n",
       "      <td>Outono</td>\n",
       "    </tr>\n",
       "    <tr>\n",
       "      <th>4</th>\n",
       "      <td>1954400510</td>\n",
       "      <td>2015-02-18</td>\n",
       "      <td>510000.0</td>\n",
       "      <td>3</td>\n",
       "      <td>2.00</td>\n",
       "      <td>1680</td>\n",
       "      <td>8080</td>\n",
       "      <td>1.0</td>\n",
       "      <td>0</td>\n",
       "      <td>0</td>\n",
       "      <td>...</td>\n",
       "      <td>98074</td>\n",
       "      <td>47.6168</td>\n",
       "      <td>-122.045</td>\n",
       "      <td>1800</td>\n",
       "      <td>7503</td>\n",
       "      <td>0-3</td>\n",
       "      <td>&gt;1955</td>\n",
       "      <td>Não</td>\n",
       "      <td>2</td>\n",
       "      <td>Inverno</td>\n",
       "    </tr>\n",
       "  </tbody>\n",
       "</table>\n",
       "<p>5 rows × 26 columns</p>\n",
       "</div>"
      ],
      "text/plain": [
       "           id       date     price  bedrooms  bathrooms  sqft_living  \\\n",
       "0  7129300520 2014-10-13  221900.0         3       1.00         1180   \n",
       "1  6414100192 2014-12-09  538000.0         3       2.25         2570   \n",
       "2  5631500400 2015-02-25  180000.0         2       1.00          770   \n",
       "3  2487200875 2014-12-09  604000.0         4       3.00         1960   \n",
       "4  1954400510 2015-02-18  510000.0         3       2.00         1680   \n",
       "\n",
       "   sqft_lot  floors  waterfront  view  ...  zipcode      lat     long  \\\n",
       "0      5650     1.0           0     0  ...    98178  47.5112 -122.257   \n",
       "1      7242     2.0           0     0  ...    98125  47.7210 -122.319   \n",
       "2     10000     1.0           0     0  ...    98028  47.7379 -122.233   \n",
       "3      5000     1.0           0     0  ...    98136  47.5208 -122.393   \n",
       "4      8080     1.0           0     0  ...    98074  47.6168 -122.045   \n",
       "\n",
       "   sqft_living15  sqft_lot15  bathroom_range  yr_built_range  \\\n",
       "0           1340        5650             0-3          < 1955   \n",
       "1           1690        7639             0-3          < 1955   \n",
       "2           2720        8062             0-3          < 1955   \n",
       "3           1360        5000             0-3           >1955   \n",
       "4           1800        7503             0-3           >1955   \n",
       "\n",
       "   yr_renovated_bit  mes   season  \n",
       "0               Não   10   Outono  \n",
       "1               Sim   12   Outono  \n",
       "2               Não    2  Inverno  \n",
       "3               Não   12   Outono  \n",
       "4               Não    2  Inverno  \n",
       "\n",
       "[5 rows x 26 columns]"
      ]
     },
     "execution_count": 359,
     "metadata": {},
     "output_type": "execute_result"
    }
   ],
   "source": [
    "df.head(5)"
   ]
  },
  {
   "cell_type": "markdown",
   "id": "4294d86f",
   "metadata": {},
   "source": [
    "<hr style=\"border: none; height: 3px; background-color: #228B22; margin: 0;\">"
   ]
  },
  {
   "cell_type": "markdown",
   "id": "29a6c85d",
   "metadata": {},
   "source": [
    "<div> <h2 style = 'color: #228B22' > Análise dos dados </h2> </div>"
   ]
  },
  {
   "cell_type": "markdown",
   "id": "354335f4",
   "metadata": {},
   "source": [
    "#### Insights"
   ]
  },
  {
   "cell_type": "code",
   "execution_count": 360,
   "id": "09bd80b7",
   "metadata": {},
   "outputs": [
    {
     "data": {
      "text/plain": [
       "id                           int64\n",
       "date                datetime64[ns]\n",
       "price                      float64\n",
       "bedrooms                     int64\n",
       "bathrooms                  float64\n",
       "sqft_living                  int64\n",
       "sqft_lot                     int64\n",
       "floors                     float64\n",
       "waterfront                   int64\n",
       "view                         int64\n",
       "condition                    int64\n",
       "grade                        int64\n",
       "sqft_above                   int64\n",
       "sqft_basement                int64\n",
       "yr_built                     int64\n",
       "yr_renovated                 int64\n",
       "zipcode                      int64\n",
       "lat                        float64\n",
       "long                       float64\n",
       "sqft_living15                int64\n",
       "sqft_lot15                   int64\n",
       "bathroom_range            category\n",
       "yr_built_range            category\n",
       "yr_renovated_bit            object\n",
       "mes                          int64\n",
       "season                      object\n",
       "dtype: object"
      ]
     },
     "execution_count": 360,
     "metadata": {},
     "output_type": "execute_result"
    }
   ],
   "source": [
    "df = df.copy()\n",
    "df.dtypes"
   ]
  },
  {
   "cell_type": "markdown",
   "id": "0744f782",
   "metadata": {},
   "source": [
    "#### - H1: Imóveis com mais quartos (bedrooms) são mais caros"
   ]
  },
  {
   "cell_type": "code",
   "execution_count": 361,
   "id": "b32c35f9",
   "metadata": {},
   "outputs": [
    {
     "data": {
      "text/plain": [
       "Text(0.5, 1.0, 'Preço Médio por Número de Quartos')"
      ]
     },
     "execution_count": 361,
     "metadata": {},
     "output_type": "execute_result"
    },
    {
     "data": {
      "image/png": "[encoded data removed]",
      "text/plain": [
       "<Figure size 1000x400 with 1 Axes>"
      ]
     },
     "metadata": {},
     "output_type": "display_data"
    }
   ],
   "source": [
    "plt.figure(figsize=(10, 4))\n",
    "sns.barplot(data=df, x='bedrooms', y='price', palette=palette)\n",
    "plt.ticklabel_format(style='plain', axis='y')\n",
    "plt.xlabel('Número de Quartos')\n",
    "plt.ylabel('Preço Médio')\n",
    "plt.title('Preço Médio por Número de Quartos')"
   ]
  },
  {
   "cell_type": "markdown",
   "id": "30b77f0e",
   "metadata": {},
   "source": [
    "#### Qual o incremento por cada quanto adicionado?"
   ]
  },
  {
   "cell_type": "code",
   "execution_count": 362,
   "id": "b341d440",
   "metadata": {
    "scrolled": true
   },
   "outputs": [
    {
     "data": {
      "text/plain": [
       "bedrooms\n",
       "0     4.095038e+05\n",
       "1     3.211801e+05\n",
       "2     4.022304e+05\n",
       "3     4.677508e+05\n",
       "4     6.361711e+05\n",
       "5     7.893550e+05\n",
       "6     8.394136e+05\n",
       "7     9.511847e+05\n",
       "8     1.105077e+06\n",
       "9     8.939998e+05\n",
       "10    8.193333e+05\n",
       "11    5.200000e+05\n",
       "Name: price, dtype: float64"
      ]
     },
     "execution_count": 362,
     "metadata": {},
     "output_type": "execute_result"
    }
   ],
   "source": [
    " df['price'].groupby(df['bedrooms']).mean()"
   ]
  },
  {
   "cell_type": "code",
   "execution_count": 363,
   "id": "3313e668",
   "metadata": {},
   "outputs": [
    {
     "data": {
      "text/plain": [
       "Text(0.5, 1.0, 'Preço Médio por Número de Quartos')"
      ]
     },
     "execution_count": 363,
     "metadata": {},
     "output_type": "execute_result"
    },
    {
     "data": {
      "image/png": "[encoded data removed]",
      "text/plain": [
       "<Figure size 1000x400 with 1 Axes>"
      ]
     },
     "metadata": {},
     "output_type": "display_data"
    }
   ],
   "source": [
    "groupBedrooms = df.groupby('bedrooms')\n",
    "bedroomsBar = groupBedrooms['price'].mean().plot(kind='bar', figsize=(10, 4), color=my_palette)\n",
    "plt.ticklabel_format(style='plain', axis='y')\n",
    "\n",
    "bedroomsBar.set_xlabel('Número de Quartos')\n",
    "bedroomsBar.set_ylabel('Preço Médio')\n",
    "bedroomsBar.set_title('Preço Médio por Número de Quartos')"
   ]
  },
  {
   "cell_type": "markdown",
   "id": "d0ef3da4",
   "metadata": {},
   "source": [
    "#### H2: Imóveis com mais banheiros (bathrooms) têm preços de venda mais altos"
   ]
  },
  {
   "cell_type": "code",
   "execution_count": 364,
   "id": "c6263324",
   "metadata": {},
   "outputs": [
    {
     "data": {
      "text/plain": [
       "Text(0.5, 1.0, 'Relação entre Banheiros e Preço Médio das Casas')"
      ]
     },
     "execution_count": 364,
     "metadata": {},
     "output_type": "execute_result"
    },
    {
     "data": {
      "image/png": "[encoded data removed]",
      "text/plain": [
       "<Figure size 640x480 with 1 Axes>"
      ]
     },
     "metadata": {},
     "output_type": "display_data"
    }
   ],
   "source": [
    "bathroom_avg = df.groupby('bathroom_range')['price'].mean().reset_index()\n",
    "\n",
    "sns.barplot(data=bathroom_avg, x='bathroom_range', y='price', palette=palette)\n",
    "plt.ticklabel_format(style='plain', axis='y')\n",
    "plt.xlabel('Faixa de Banheiros')\n",
    "plt.ylabel('Preço Médio')\n",
    "plt.title('Relação entre Banheiros e Preço Médio das Casas')"
   ]
  },
  {
   "cell_type": "markdown",
   "id": "ff7fb434",
   "metadata": {},
   "source": [
    "#### H3: Imóveis com melhores avaliações (grade) têm preços de venda mais altos"
   ]
  },
  {
   "cell_type": "code",
   "execution_count": 365,
   "id": "d2d4c1ab",
   "metadata": {},
   "outputs": [
    {
     "data": {
      "text/plain": [
       "Text(0.5, 1.0, 'Preço Médio por índice de avaliação')"
      ]
     },
     "execution_count": 365,
     "metadata": {},
     "output_type": "execute_result"
    },
    {
     "data": {
      "image/png": "[encoded data removed]",
      "text/plain": [
       "<Figure size 1000x400 with 1 Axes>"
      ]
     },
     "metadata": {},
     "output_type": "display_data"
    }
   ],
   "source": [
    "groupGrades = df.groupby('grade')\n",
    "gradeBar = groupGrades['price'].mean().plot(kind='bar', figsize=(10, 4), color=my_palette)\n",
    "plt.ticklabel_format(style='plain', axis='y')\n",
    "\n",
    "gradeBar.set_xlabel('Índice de avaliação')\n",
    "gradeBar.set_ylabel('Preço Médio')\n",
    "gradeBar.set_title('Preço Médio por índice de avaliação')"
   ]
  },
  {
   "cell_type": "markdown",
   "id": "d81f72df",
   "metadata": {},
   "source": [
    "#### H4: Imóveis com vista para o mar, lago, rio ou oceano têm preço de vendas mais altos "
   ]
  },
  {
   "cell_type": "code",
   "execution_count": 388,
   "id": "48d0a000",
   "metadata": {},
   "outputs": [
    {
     "data": {
      "text/plain": [
       "Text(0.5, 1.0, 'Preço Médio por índice de avaliação')"
      ]
     },
     "execution_count": 388,
     "metadata": {},
     "output_type": "execute_result"
    },
    {
     "data": {
      "image/png": "[encoded data removed]",
      "text/plain": [
       "<Figure size 1000x400 with 1 Axes>"
      ]
     },
     "metadata": {},
     "output_type": "display_data"
    }
   ],
   "source": [
    "groupwaterfront = df.groupby('waterfront')\n",
    "waterfrontBar = groupwaterfront['price'].mean().plot(kind='bar', figsize=(10, 4), color=my_palette)\n",
    "plt.ticklabel_format(style='plain', axis='y')\n",
    "\n",
    "waterfrontBar.set_xticklabels(['Não', 'Sim'])\n",
    "waterfrontBar.set_xlabel('Índice de avaliação')\n",
    "waterfrontBar.set_ylabel('Preço Médio')\n",
    "waterfrontBar.set_title('Preço Médio por índice de avaliação')"
   ]
  },
  {
   "cell_type": "markdown",
   "id": "87f9d302",
   "metadata": {},
   "source": [
    "Aumento médio em porcentagem"
   ]
  },
  {
   "cell_type": "code",
   "execution_count": 395,
   "id": "4fdb5ca5",
   "metadata": {},
   "outputs": [
    {
     "data": {
      "text/plain": [
       "211.76069412391584"
      ]
     },
     "execution_count": 395,
     "metadata": {},
     "output_type": "execute_result"
    }
   ],
   "source": [
    "a = df.loc[df['waterfront'] == 1, 'price'].mean()\n",
    "\n",
    "b = df.loc[df['waterfront'] == 0, 'price'].mean()\n",
    "\n",
    "((a - b)/ b)*100"
   ]
  },
  {
   "cell_type": "markdown",
   "id": "98644e41",
   "metadata": {},
   "source": [
    "#### H5: Imoveis construidos depois de 1960 são mais baratos"
   ]
  },
  {
   "cell_type": "code",
   "execution_count": 367,
   "id": "6bdfceff",
   "metadata": {},
   "outputs": [
    {
     "data": {
      "text/plain": [
       "Text(0.5, 1.0, 'Relação entre preço e faixa de anos')"
      ]
     },
     "execution_count": 367,
     "metadata": {},
     "output_type": "execute_result"
    },
    {
     "data": {
      "image/png": "[encoded data removed]",
      "text/plain": [
       "<Figure size 640x480 with 1 Axes>"
      ]
     },
     "metadata": {},
     "output_type": "display_data"
    }
   ],
   "source": [
    "yr_built_avg = df.groupby('yr_built_range')['price'].mean().reset_index()\n",
    "\n",
    "sns.barplot(data=yr_built_avg, x='yr_built_range', y='price', palette=palette)\n",
    "plt.ticklabel_format(style='plain', axis='y')\n",
    "plt.xlabel('Faixa de anos')\n",
    "plt.ylabel('Preço Médio')\n",
    "plt.title('Relação entre preço e faixa de anos')"
   ]
  },
  {
   "cell_type": "markdown",
   "id": "a7b8990d",
   "metadata": {},
   "source": [
    "#### H6: Casas reformadas têm preços de venda mais altos"
   ]
  },
  {
   "cell_type": "code",
   "execution_count": 396,
   "id": "cbb9d103",
   "metadata": {},
   "outputs": [
    {
     "data": {
      "text/plain": [
       "Text(0.5, 1.0, 'Relação entre preço e reforma')"
      ]
     },
     "execution_count": 396,
     "metadata": {},
     "output_type": "execute_result"
    },
    {
     "data": {
      "image/png": "[encoded data removed]",
      "text/plain": [
       "<Figure size 640x480 with 1 Axes>"
      ]
     },
     "metadata": {},
     "output_type": "display_data"
    }
   ],
   "source": [
    "yr_renovatedBar = df.groupby('yr_renovated_bit')['price'].mean().reset_index()\n",
    "\n",
    "sns.barplot(data=yr_renovatedBar, x='yr_renovated_bit', y='price', palette=palette)\n",
    "plt.ticklabel_format(style='plain', axis='y')\n",
    "plt.xlabel('Reforma')\n",
    "plt.ylabel('Preço Médio')\n",
    "plt.title('Relação entre preço e reforma')  "
   ]
  },
  {
   "cell_type": "markdown",
   "id": "17ad0836",
   "metadata": {},
   "source": [
    "#### H7: Imóveis localizados em áreas com melhores vistas (view) têm preços de venda mais altos"
   ]
  },
  {
   "cell_type": "code",
   "execution_count": 369,
   "id": "91c340fd",
   "metadata": {},
   "outputs": [
    {
     "data": {
      "text/plain": [
       "Text(0.5, 1.0, 'Preço Médio por índice de avaliação')"
      ]
     },
     "execution_count": 369,
     "metadata": {},
     "output_type": "execute_result"
    },
    {
     "data": {
      "image/png": "[encoded data removed]",
      "text/plain": [
       "<Figure size 1000x400 with 1 Axes>"
      ]
     },
     "metadata": {},
     "output_type": "display_data"
    }
   ],
   "source": [
    "groupView = df.groupby('view')\n",
    "viewBar = groupView['price'].mean().plot(kind='bar', figsize=(10, 4), color=my_palette)\n",
    "plt.ticklabel_format(style='plain', axis='y')\n",
    "\n",
    "viewBar.set_xlabel('Índice de avaliação')\n",
    "viewBar.set_ylabel('Preço Médio')\n",
    "viewBar.set_title('Preço Médio por índice de avaliação')"
   ]
  },
  {
   "cell_type": "markdown",
   "id": "ca0a26f9",
   "metadata": {},
   "source": [
    "#### - H8: Imóveis com mais andares (floors) têm preços de venda mais altos."
   ]
  },
  {
   "cell_type": "code",
   "execution_count": 370,
   "id": "6149444f",
   "metadata": {},
   "outputs": [
    {
     "data": {
      "text/plain": [
       "Text(0.5, 1.0, 'Relação entre preço e Número de Andares')"
      ]
     },
     "execution_count": 370,
     "metadata": {},
     "output_type": "execute_result"
    },
    {
     "data": {
      "image/png": "[encoded data removed]",
      "text/plain": [
       "<Figure size 640x480 with 1 Axes>"
      ]
     },
     "metadata": {},
     "output_type": "display_data"
    }
   ],
   "source": [
    "floorsBar = df.groupby('floors')['price'].mean().reset_index()\n",
    "\n",
    "sns.barplot(data=floorsBar, x='floors', y='price', palette=palette)\n",
    "plt.ticklabel_format(style='plain', axis='y')\n",
    "plt.xlabel('Número de Andares')\n",
    "plt.ylabel('Preço Médio')\n",
    "plt.title('Relação entre preço e Número de Andares')  "
   ]
  },
  {
   "cell_type": "markdown",
   "id": "39a22792",
   "metadata": {},
   "source": [
    "<hr style=\"border: none; height: 3px; background-color: #228B22; margin: 0;\">"
   ]
  },
  {
   "cell_type": "markdown",
   "id": "60a1d11b",
   "metadata": {},
   "source": [
    "<div> <h2 style = 'color: #228B22' >Solução para as questões do Negócio e Resultado das Hipóteses</h2> </div>"
   ]
  },
  {
   "cell_type": "markdown",
   "id": "22f735c7",
   "metadata": {},
   "source": [
    "#### Quais casas o CEO da House Rocket deveria comprar e por qual preço de compra?"
   ]
  },
  {
   "cell_type": "markdown",
   "id": "e92d7478",
   "metadata": {},
   "source": [
    "Calculando a mediana dos preços, agrupados pelos códigos de área."
   ]
  },
  {
   "cell_type": "code",
   "execution_count": 371,
   "id": "b422ee93",
   "metadata": {},
   "outputs": [],
   "source": [
    "zipcodeMedian = df.groupby('zipcode')['price'].median().reset_index()"
   ]
  },
  {
   "cell_type": "markdown",
   "id": "1d4675a4",
   "metadata": {},
   "source": [
    "Renomeando a coluna price para price_median"
   ]
  },
  {
   "cell_type": "code",
   "execution_count": 372,
   "id": "cb476c99",
   "metadata": {},
   "outputs": [],
   "source": [
    "zipcodeMedian.rename(columns ={'price':'price_median'}, inplace=True)"
   ]
  },
  {
   "cell_type": "markdown",
   "id": "8c95a904",
   "metadata": {},
   "source": [
    "Juntando as duas tabelas refenciando pela coluna zipcode "
   ]
  },
  {
   "cell_type": "code",
   "execution_count": 373,
   "id": "75dcbdf5",
   "metadata": {},
   "outputs": [],
   "source": [
    "df_zipcodeMedian = df.merge(zipcodeMedian, on='zipcode', how='inner')"
   ]
  },
  {
   "cell_type": "markdown",
   "id": "b572d1e1",
   "metadata": {},
   "source": [
    "Verificando duas condições para cada casa: se a condição da casa é maior que 3 e se o preço da compra é menor que a mediana do preço daquela região de acordo com o código de área"
   ]
  },
  {
   "cell_type": "code",
   "execution_count": 374,
   "id": "e0331e4b",
   "metadata": {},
   "outputs": [],
   "source": [
    "for i, row in df_zipcodeMedian.iterrows():\n",
    "    if (row['condition'] > 4) & (row['price_median'] > row['price']):\n",
    "        df_zipcodeMedian.loc[i, 'Pay'] = 'Sim'\n",
    "    else:\n",
    "        df_zipcodeMedian.loc[i, 'Pay'] = 'Não'"
   ]
  },
  {
   "cell_type": "markdown",
   "id": "7dfafd6c",
   "metadata": {},
   "source": [
    "Exibindo apenas os dados em que a coluna \"Pay\" é igual a \"Sim\", ou seja, casas que deveriam ser compradas"
   ]
  },
  {
   "cell_type": "code",
   "execution_count": 375,
   "id": "a62ca50b",
   "metadata": {},
   "outputs": [
    {
     "data": {
      "text/html": [
       "<div>\n",
       "<style scoped>\n",
       "    .dataframe tbody tr th:only-of-type {\n",
       "        vertical-align: middle;\n",
       "    }\n",
       "\n",
       "    .dataframe tbody tr th {\n",
       "        vertical-align: top;\n",
       "    }\n",
       "\n",
       "    .dataframe thead th {\n",
       "        text-align: right;\n",
       "    }\n",
       "</style>\n",
       "<table border=\"1\" class=\"dataframe\">\n",
       "  <thead>\n",
       "    <tr style=\"text-align: right;\">\n",
       "      <th></th>\n",
       "      <th>id</th>\n",
       "      <th>price</th>\n",
       "      <th>Pay</th>\n",
       "      <th>grade</th>\n",
       "    </tr>\n",
       "  </thead>\n",
       "  <tbody>\n",
       "    <tr>\n",
       "      <th>19</th>\n",
       "      <td>3352402236</td>\n",
       "      <td>252500.0</td>\n",
       "      <td>Sim</td>\n",
       "      <td>7</td>\n",
       "    </tr>\n",
       "    <tr>\n",
       "      <th>27</th>\n",
       "      <td>185000118</td>\n",
       "      <td>212000.0</td>\n",
       "      <td>Sim</td>\n",
       "      <td>6</td>\n",
       "    </tr>\n",
       "    <tr>\n",
       "      <th>66</th>\n",
       "      <td>8068000585</td>\n",
       "      <td>235000.0</td>\n",
       "      <td>Sim</td>\n",
       "      <td>7</td>\n",
       "    </tr>\n",
       "    <tr>\n",
       "      <th>68</th>\n",
       "      <td>7129300420</td>\n",
       "      <td>258000.0</td>\n",
       "      <td>Sim</td>\n",
       "      <td>6</td>\n",
       "    </tr>\n",
       "    <tr>\n",
       "      <th>79</th>\n",
       "      <td>1180008315</td>\n",
       "      <td>212000.0</td>\n",
       "      <td>Sim</td>\n",
       "      <td>6</td>\n",
       "    </tr>\n",
       "    <tr>\n",
       "      <th>...</th>\n",
       "      <td>...</td>\n",
       "      <td>...</td>\n",
       "      <td>...</td>\n",
       "      <td>...</td>\n",
       "    </tr>\n",
       "    <tr>\n",
       "      <th>21276</th>\n",
       "      <td>6623400193</td>\n",
       "      <td>257000.0</td>\n",
       "      <td>Sim</td>\n",
       "      <td>7</td>\n",
       "    </tr>\n",
       "    <tr>\n",
       "      <th>21281</th>\n",
       "      <td>5365200040</td>\n",
       "      <td>235000.0</td>\n",
       "      <td>Sim</td>\n",
       "      <td>6</td>\n",
       "    </tr>\n",
       "    <tr>\n",
       "      <th>21326</th>\n",
       "      <td>7224500010</td>\n",
       "      <td>253000.0</td>\n",
       "      <td>Sim</td>\n",
       "      <td>7</td>\n",
       "    </tr>\n",
       "    <tr>\n",
       "      <th>21397</th>\n",
       "      <td>3262301355</td>\n",
       "      <td>1320000.0</td>\n",
       "      <td>Sim</td>\n",
       "      <td>9</td>\n",
       "    </tr>\n",
       "    <tr>\n",
       "      <th>21403</th>\n",
       "      <td>3738000070</td>\n",
       "      <td>1712750.0</td>\n",
       "      <td>Sim</td>\n",
       "      <td>9</td>\n",
       "    </tr>\n",
       "  </tbody>\n",
       "</table>\n",
       "<p>698 rows × 4 columns</p>\n",
       "</div>"
      ],
      "text/plain": [
       "               id      price  Pay  grade\n",
       "19     3352402236   252500.0  Sim      7\n",
       "27      185000118   212000.0  Sim      6\n",
       "66     8068000585   235000.0  Sim      7\n",
       "68     7129300420   258000.0  Sim      6\n",
       "79     1180008315   212000.0  Sim      6\n",
       "...           ...        ...  ...    ...\n",
       "21276  6623400193   257000.0  Sim      7\n",
       "21281  5365200040   235000.0  Sim      6\n",
       "21326  7224500010   253000.0  Sim      7\n",
       "21397  3262301355  1320000.0  Sim      9\n",
       "21403  3738000070  1712750.0  Sim      9\n",
       "\n",
       "[698 rows x 4 columns]"
      ]
     },
     "execution_count": 375,
     "metadata": {},
     "output_type": "execute_result"
    }
   ],
   "source": [
    "compra = df_zipcodeMedian[df_zipcodeMedian['Pay'] == 'Sim']\n",
    "compra[['id', 'price', 'Pay', 'grade']]"
   ]
  },
  {
   "cell_type": "markdown",
   "id": "84b5c8d8",
   "metadata": {},
   "source": [
    "#### Uma vez a casa em posse da empresa, qual o melhor momento para vendê-las e qual seria o preço da venda?"
   ]
  },
  {
   "cell_type": "markdown",
   "id": "a439c78a",
   "metadata": {},
   "source": [
    "Calculando a média dos preços, agrupando pelo código postal e estação do ano"
   ]
  },
  {
   "cell_type": "code",
   "execution_count": 376,
   "id": "fc14a789",
   "metadata": {},
   "outputs": [],
   "source": [
    "zipcodeSeasonMedian = compra.groupby(['zipcode','season'])['price'].median().reset_index()"
   ]
  },
  {
   "cell_type": "markdown",
   "id": "067b6a82",
   "metadata": {},
   "source": [
    "Renomeando as colunas price para price_median_season e season para season_median"
   ]
  },
  {
   "cell_type": "code",
   "execution_count": 377,
   "id": "7f2bf4dc",
   "metadata": {},
   "outputs": [],
   "source": [
    "zipcodeSeasonMedian.rename(columns ={'price':'price_median_season', 'season':'season_median'}, inplace=True)"
   ]
  },
  {
   "cell_type": "markdown",
   "id": "b48d74c6",
   "metadata": {},
   "source": [
    "Juntando as duas tabelas refenciando pela coluna zipcode "
   ]
  },
  {
   "cell_type": "code",
   "execution_count": 378,
   "id": "156ce616",
   "metadata": {},
   "outputs": [],
   "source": [
    "compra_zipcodeSeasonMedian = compra.merge(zipcodeSeasonMedian, on='zipcode', how='inner') "
   ]
  },
  {
   "cell_type": "markdown",
   "id": "43f38346",
   "metadata": {},
   "source": [
    "Verificando a condição de venda para cada casa de acordo com a estação: se o preço da casa for menor que o preço médio das casas por estação e código postal, o preço de venda será multiplicado por 1,25. Caso contrário, o preço de venda da casa será multiplicado por 1,1."
   ]
  },
  {
   "cell_type": "code",
   "execution_count": 379,
   "id": "e4131d24",
   "metadata": {},
   "outputs": [],
   "source": [
    "for i, row in compra_zipcodeSeasonMedian.iterrows():\n",
    "    if (row['price'] > row['price_median_season'] ):\n",
    "        compra_zipcodeSeasonMedian.loc[i, 'sale'] =  row['price'] * 1.25\n",
    "    else:\n",
    "        compra_zipcodeSeasonMedian.loc[i, 'sale'] =  row['price'] * 1.1        "
   ]
  },
  {
   "cell_type": "markdown",
   "id": "61e7472b",
   "metadata": {},
   "source": [
    "Exibindo os valores "
   ]
  },
  {
   "cell_type": "code",
   "execution_count": 380,
   "id": "658965f7",
   "metadata": {},
   "outputs": [
    {
     "data": {
      "text/html": [
       "<div>\n",
       "<style scoped>\n",
       "    .dataframe tbody tr th:only-of-type {\n",
       "        vertical-align: middle;\n",
       "    }\n",
       "\n",
       "    .dataframe tbody tr th {\n",
       "        vertical-align: top;\n",
       "    }\n",
       "\n",
       "    .dataframe thead th {\n",
       "        text-align: right;\n",
       "    }\n",
       "</style>\n",
       "<table border=\"1\" class=\"dataframe\">\n",
       "  <thead>\n",
       "    <tr style=\"text-align: right;\">\n",
       "      <th></th>\n",
       "      <th>id</th>\n",
       "      <th>season</th>\n",
       "      <th>price</th>\n",
       "      <th>sale</th>\n",
       "    </tr>\n",
       "  </thead>\n",
       "  <tbody>\n",
       "    <tr>\n",
       "      <th>0</th>\n",
       "      <td>3352402236</td>\n",
       "      <td>Outono</td>\n",
       "      <td>252500.0</td>\n",
       "      <td>315625.0</td>\n",
       "    </tr>\n",
       "    <tr>\n",
       "      <th>1</th>\n",
       "      <td>3352402236</td>\n",
       "      <td>Outono</td>\n",
       "      <td>252500.0</td>\n",
       "      <td>277750.0</td>\n",
       "    </tr>\n",
       "    <tr>\n",
       "      <th>2</th>\n",
       "      <td>3352402236</td>\n",
       "      <td>Outono</td>\n",
       "      <td>252500.0</td>\n",
       "      <td>277750.0</td>\n",
       "    </tr>\n",
       "    <tr>\n",
       "      <th>3</th>\n",
       "      <td>3352402236</td>\n",
       "      <td>Outono</td>\n",
       "      <td>252500.0</td>\n",
       "      <td>315625.0</td>\n",
       "    </tr>\n",
       "    <tr>\n",
       "      <th>4</th>\n",
       "      <td>185000118</td>\n",
       "      <td>Inverno</td>\n",
       "      <td>212000.0</td>\n",
       "      <td>233200.0</td>\n",
       "    </tr>\n",
       "    <tr>\n",
       "      <th>...</th>\n",
       "      <td>...</td>\n",
       "      <td>...</td>\n",
       "      <td>...</td>\n",
       "      <td>...</td>\n",
       "    </tr>\n",
       "    <tr>\n",
       "      <th>2519</th>\n",
       "      <td>7224500010</td>\n",
       "      <td>Primavera</td>\n",
       "      <td>253000.0</td>\n",
       "      <td>278300.0</td>\n",
       "    </tr>\n",
       "    <tr>\n",
       "      <th>2520</th>\n",
       "      <td>3262301355</td>\n",
       "      <td>Verão</td>\n",
       "      <td>1320000.0</td>\n",
       "      <td>1452000.0</td>\n",
       "    </tr>\n",
       "    <tr>\n",
       "      <th>2521</th>\n",
       "      <td>3262301355</td>\n",
       "      <td>Verão</td>\n",
       "      <td>1320000.0</td>\n",
       "      <td>1452000.0</td>\n",
       "    </tr>\n",
       "    <tr>\n",
       "      <th>2522</th>\n",
       "      <td>3738000070</td>\n",
       "      <td>Inverno</td>\n",
       "      <td>1712750.0</td>\n",
       "      <td>1884025.0</td>\n",
       "    </tr>\n",
       "    <tr>\n",
       "      <th>2523</th>\n",
       "      <td>3738000070</td>\n",
       "      <td>Inverno</td>\n",
       "      <td>1712750.0</td>\n",
       "      <td>2140937.5</td>\n",
       "    </tr>\n",
       "  </tbody>\n",
       "</table>\n",
       "<p>2524 rows × 4 columns</p>\n",
       "</div>"
      ],
      "text/plain": [
       "              id     season      price       sale\n",
       "0     3352402236     Outono   252500.0   315625.0\n",
       "1     3352402236     Outono   252500.0   277750.0\n",
       "2     3352402236     Outono   252500.0   277750.0\n",
       "3     3352402236     Outono   252500.0   315625.0\n",
       "4      185000118    Inverno   212000.0   233200.0\n",
       "...          ...        ...        ...        ...\n",
       "2519  7224500010  Primavera   253000.0   278300.0\n",
       "2520  3262301355      Verão  1320000.0  1452000.0\n",
       "2521  3262301355      Verão  1320000.0  1452000.0\n",
       "2522  3738000070    Inverno  1712750.0  1884025.0\n",
       "2523  3738000070    Inverno  1712750.0  2140937.5\n",
       "\n",
       "[2524 rows x 4 columns]"
      ]
     },
     "execution_count": 380,
     "metadata": {},
     "output_type": "execute_result"
    }
   ],
   "source": [
    "compra_zipcodeSeasonMedian[['id', 'season', 'price', 'sale']]"
   ]
  },
  {
   "cell_type": "markdown",
   "id": "cc40f2e8",
   "metadata": {},
   "source": [
    "Vizualizando os dados em um gráfico para verificar qual estação é mais vantajosa "
   ]
  },
  {
   "cell_type": "code",
   "execution_count": 381,
   "id": "c3a8fa0a",
   "metadata": {},
   "outputs": [
    {
     "data": {
      "text/plain": [
       "Text(0, 0.5, 'Preço de Venda Médio')"
      ]
     },
     "execution_count": 381,
     "metadata": {},
     "output_type": "execute_result"
    },
    {
     "data": {
      "image/png": "[encoded data removed]",
      "text/plain": [
       "<Figure size 800x400 with 1 Axes>"
      ]
     },
     "metadata": {},
     "output_type": "display_data"
    }
   ],
   "source": [
    "plt.figure(figsize=(8, 4))\n",
    "sns.barplot(data=compra_zipcodeSeasonMedian, x='season', y='sale')\n",
    "plt.xlabel('Estações')\n",
    "plt.ylabel('Preço de Venda Médio')"
   ]
  },
  {
   "cell_type": "markdown",
   "id": "c24ab913",
   "metadata": {},
   "source": [
    "#### A House Rocket deveria fazer uma reforma para aumentar o preço da venda? Quais seriam as sugestões de mudanças? Qual o incremento no preço dado por cada opção de reforma?\t "
   ]
  },
  {
   "cell_type": "markdown",
   "id": "3ccff772",
   "metadata": {},
   "source": [
    "Gráfico com a diferença entre casas reformadas e casas não reformadas "
   ]
  },
  {
   "cell_type": "code",
   "execution_count": 382,
   "id": "569408d4",
   "metadata": {},
   "outputs": [
    {
     "data": {
      "text/plain": [
       "Text(0.5, 1.0, 'Relação entre preço e reforma')"
      ]
     },
     "execution_count": 382,
     "metadata": {},
     "output_type": "execute_result"
    },
    {
     "data": {
      "image/png": "[encoded data removed]",
      "text/plain": [
       "<Figure size 640x480 with 1 Axes>"
      ]
     },
     "metadata": {},
     "output_type": "display_data"
    }
   ],
   "source": [
    "yr_renovatedBar = df.groupby('yr_renovated_bit')['price'].mean().reset_index()\n",
    "\n",
    "sns.barplot(data=yr_renovatedBar, x='yr_renovated_bit', y='price', palette=palette)\n",
    "plt.ticklabel_format(style='plain', axis='y')\n",
    "plt.xlabel('Reforma')\n",
    "plt.ylabel('Preço Médio')\n",
    "plt.title('Relação entre preço e reforma') "
   ]
  },
  {
   "cell_type": "markdown",
   "id": "50990ebe",
   "metadata": {},
   "source": [
    "Valor médio de uma casa com reforma"
   ]
  },
  {
   "cell_type": "code",
   "execution_count": 391,
   "id": "2e02b926",
   "metadata": {},
   "outputs": [],
   "source": [
    "a = df.loc[df['yr_renovated_bit'] == 'Sim', 'price'].mean()"
   ]
  },
  {
   "cell_type": "markdown",
   "id": "5cfa34b0",
   "metadata": {},
   "source": [
    "Valor médio de uma casa sem reforma"
   ]
  },
  {
   "cell_type": "code",
   "execution_count": 392,
   "id": "8380c8c2",
   "metadata": {},
   "outputs": [],
   "source": [
    "b = df.loc[df['yr_renovated_bit'] == 'Não', 'price'].mean()"
   ]
  },
  {
   "cell_type": "markdown",
   "id": "7d518f4a",
   "metadata": {},
   "source": [
    "Aumento em porcetagem "
   ]
  },
  {
   "cell_type": "code",
   "execution_count": 393,
   "id": "389ea0ed",
   "metadata": {},
   "outputs": [],
   "source": [
    "aumento = ((a - b)/ b) * 100"
   ]
  },
  {
   "cell_type": "code",
   "execution_count": 394,
   "id": "b877433c",
   "metadata": {},
   "outputs": [
    {
     "data": {
      "text/plain": [
       "43.290165030476054"
      ]
     },
     "execution_count": 394,
     "metadata": {},
     "output_type": "execute_result"
    }
   ],
   "source": [
    "aumento"
   ]
  },
  {
   "cell_type": "markdown",
   "id": "b659ba1a",
   "metadata": {},
   "source": [
    "#### Hipóteses"
   ]
  },
  {
   "cell_type": "markdown",
   "id": "ed99a0f2",
   "metadata": {},
   "source": [
    "H1 - Falso\n",
    "\n",
    "Após análise do gráfico, observa-se que o número de quartos não é o único fator determinante para o preço dos imóveis. De fato, é possível observar que casas com 8 quartos possuem uma média de preço maior em comparação com casas com 10 ou 11 quartos."
   ]
  },
  {
   "cell_type": "markdown",
   "id": "3d6d1530",
   "metadata": {},
   "source": [
    "Negócio: Número de quartos é um fator irrelevante no investimento de imóveis "
   ]
  },
  {
   "cell_type": "markdown",
   "id": "24e32fc1",
   "metadata": {},
   "source": [
    "H2 - Verdadeiro\n",
    "\n",
    "Após análise do gráfico, fica evidente que imóveis com mais de 5 banheiros apresentam, em média, preços mais elevados em comparação com aqueles que possuem menos banheiros. Isso sugere que a quantidade de banheiros é um fator relevante na determinação do preço de um imóvel."
   ]
  },
  {
   "cell_type": "markdown",
   "id": "07b92495",
   "metadata": {},
   "source": [
    "Negócio: Investir em imóveis com mais banheiros "
   ]
  },
  {
   "cell_type": "markdown",
   "id": "bf39603d",
   "metadata": {},
   "source": [
    "H3 - Verdadeiro\n",
    "\n",
    "Após a análise dos gráficos, fica evidente que há uma relação positiva entre a avaliação do imóvel e o seu preço de venda. Quanto maior a avaliação do imóvel, maior tende a ser o seu preço de venda. Isso sugere que os compradores estão dispostos a pagar mais por imóveis com uma avaliação mais alta."
   ]
  },
  {
   "cell_type": "markdown",
   "id": "3ae30e00",
   "metadata": {},
   "source": [
    "Negócio: Investir em imóveis com avaliações maiores"
   ]
  },
  {
   "cell_type": "markdown",
   "id": "f31bd454",
   "metadata": {},
   "source": [
    "H4 - Verdadeiro\n",
    "\n",
    "Após uma análise cuidadosa, é possível constatar que imóveis com vista para o mar, lago, rio ou oceano têm preços de venda significativamente mais altos em comparação com imóveis sem vista. Em média, o valor dos imóveis com vista é cerca de 211,7% mais alto do que aqueles sem vista."
   ]
  },
  {
   "cell_type": "markdown",
   "id": "4fc02858",
   "metadata": {},
   "source": [
    "Negócio: Investir em imóveis com vista para a água "
   ]
  },
  {
   "cell_type": "markdown",
   "id": "881fe989",
   "metadata": {},
   "source": [
    "H5 - Falso\n",
    "\n",
    "Após uma análise mais detalhada, constata-se que o ano de construção dos imóveis não afetam seu valor de venda."
   ]
  },
  {
   "cell_type": "markdown",
   "id": "4e963a0d",
   "metadata": {},
   "source": [
    "Negócio: O ano da construção é um fator irrelevante no investimento de imóveis "
   ]
  },
  {
   "cell_type": "markdown",
   "id": "b9d93736",
   "metadata": {},
   "source": [
    "\n",
    "H6 - Verdadeiro\n",
    "\n",
    "Após análise dos dados, pode-se confirmar que casas que passaram por reformas têm seu valor aumentado em média em cerca de 43,2%."
   ]
  },
  {
   "cell_type": "markdown",
   "id": "c9352b8f",
   "metadata": {},
   "source": [
    "Negócio: Investir em casas não reformadas e reforma-las"
   ]
  },
  {
   "cell_type": "markdown",
   "id": "425b1546",
   "metadata": {},
   "source": [
    "\n",
    "H7 - Verdadeiro\n",
    "\n",
    "Após análise dos dados, é evidente que imóveis com vistas privilegiadas, têm preços de venda mais elevados em comparação com imóveis sem essa característica."
   ]
  },
  {
   "cell_type": "markdown",
   "id": "fb265ca7",
   "metadata": {},
   "source": [
    "Negócio: Investir em imóveis com boa vista "
   ]
  },
  {
   "cell_type": "markdown",
   "id": "0347f52b",
   "metadata": {},
   "source": [
    "H8 - Falso\n",
    "\n",
    "Após análise dos dados, constata-se que o número de andares dos imóveis não influenciam tanto no seu valor de venda."
   ]
  },
  {
   "cell_type": "markdown",
   "id": "957daeb8",
   "metadata": {},
   "source": [
    "Negócio: Número de quartos é um fator irrelevante no investimento de imóveis "
   ]
  },
  {
   "cell_type": "markdown",
   "id": "d7b2576a",
   "metadata": {},
   "source": [
    "<hr style=\"border: none; height: 3px; background-color: #228B22; margin: 0;\">"
   ]
  }
 ],
 "metadata": {
  "kernelspec": {
   "display_name": "Python 3 (ipykernel)",
   "language": "python",
   "name": "python3"
  },
  "language_info": {
   "codemirror_mode": {
    "name": "ipython",
    "version": 3
   },
   "file_extension": ".py",
   "mimetype": "text/x-python",
   "name": "python",
   "nbconvert_exporter": "python",
   "pygments_lexer": "ipython3",
   "version": "3.10.9"
  }
 },
 "nbformat": 4,
 "nbformat_minor": 5
}
